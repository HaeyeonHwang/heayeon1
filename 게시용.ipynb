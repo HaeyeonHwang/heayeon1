{
 "cells": [
  {
   "cell_type": "code",
   "execution_count": 2,
   "metadata": {},
   "outputs": [],
   "source": [
    "## main function 불러오기\n",
    "import pandas as pd\n",
    "import numpy as np\n",
    "import seaborn as sns\n",
    "import matplotlib as mpl\n",
    "import matplotlib.pyplot as plt\n",
    "import warnings\n",
    "import os\n",
    "from sklearn.model_selection import KFold\n",
    "from sklearn.model_selection import GroupKFold, StratifiedKFold\n",
    "from sklearn import metrics\n",
    "from sklearn.model_selection import StratifiedShuffleSplit\n",
    "from scipy import stats\n",
    "from zlib import crc32\n",
    "pd.options.mode.chained_assignment = No\n",
    "##K-폴드 교차검증 설정\n",
    "k_fold = KFold(n_splits=10, shuffle=True, random_state=0)"
   ]
  },
  {
   "cell_type": "code",
   "execution_count": 4,
   "metadata": {},
   "outputs": [],
   "source": [
    "# 데이터 불러오기 및 전처리\n",
    "# 0. Data set split\n",
    "data = pd.read_csv(\"traffic_1.csv\",encoding='CP949')\n",
    "\n",
    "feature_names_raw = [\"acdnt_dd_dc\",\"dfk_code\",\"tmzon_div_1_code\",\"occrrnc_time_code\",\"acdnt_mcode\",\"lrg_violt_1_code\",\n",
    "                     \"wether_sttus_code\",\"road_stle_code\",\"wrngdo_vhcle_asort_code\",\"acdnt_age_1_code\",\"sexdstn_div_1_code\",\n",
    "                     \"acdnt_age_2_code\",\"sexdstn_div_2_code\",\"rdse_sttus_code\",\"acdnt_year\",\"month\"]\n",
    "feature_names = [\"spring\",\"summer\",\"fall\",\"winter\",\"mon\",\"tue\",\"wed\",\"thur\",\"fri\",\"sat\",\"sun\",\n",
    "                 \"day\",\"night\",\"h1\",\"h2\",\"h3\",\"h4\",\"h5\",\"h6\",\"h7\",\"h8\",\"h9\",\"h10\",\"h11\",\"h12\",\n",
    "                 \"h13\",\"h14\",\"h15\",\"h16\",\"h17\",\"h18\",\"h19\",\"h20\",\"h21\",\"h22\",\"h23\",\"h24\",\n",
    "                 \"acm1\",\"acm2\",\"acm3\",\"acm4\",\"acm5\",\"violt1\",\"violt2\",\"violt3\",\"violt4\",\n",
    "                 \"violt5\",\"violt6\",\"violt7\",\"violt8\",\"violt9\",\"violt10\",\"violt11\",\"violt12\",\n",
    "                 \"weath1\",\"weath2\",\"weath3\",\"weath4\",\"weath5\",\"weath6\",\n",
    "                 \"rsty1\",\"rsty2\",\"rsty3\",\"rsty4\",\"rsty5\",\"rsty6\",\"rsty7\",\"rsty8\",\"rsty9\",\"rsty10\",\n",
    "                 \"rsty11\",\"rsty12\",\"rsty13\",\"vtype1\",\"vtype2\",\"vtype3\",\"vtype4\",\"vtype5\",\"vtype6\",\"vtype7\",\"vtype8\",\n",
    "                 \"age1\",\"male1\",\"female1\",\"age2\",\"male2\",\"female2\",\n",
    "                 \"rstat1\",\"rstat2\",\"rstat3\",\"rstat4\",\"rstat5\",\"rstat6\",\"rstat7\",\"rstat8\",\"rstat9\"]\n",
    "label_name = \"y_h\"\n",
    "names = [\"spring\",\"summer\",\"fall\",\"winter\",\"mon\",\"tue\",\"wed\",\"thur\",\"fri\",\"sat\",\"sun\",\n",
    "                 \"day\",\"night\",\"h1\",\"h2\",\"h3\",\"h4\",\"h5\",\"h6\",\"h7\",\"h8\",\"h9\",\"h10\",\"h11\",\"h12\",\n",
    "                 \"h13\",\"h14\",\"h15\",\"h16\",\"h17\",\"h18\",\"h19\",\"h20\",\"h21\",\"h22\",\"h23\",\"h24\",\n",
    "                 \"acm1\",\"acm2\",\"acm3\",\"acm4\",\"acm5\",\"violt1\",\"violt2\",\"violt3\",\"violt4\",\n",
    "                 \"violt5\",\"violt6\",\"violt7\",\"violt8\",\"violt9\",\"violt10\",\"violt11\",\"violt12\",\n",
    "                 \"weath1\",\"weath2\",\"weath3\",\"weath4\",\"weath5\",\"weath6\",\n",
    "                 \"rsty1\",\"rsty2\",\"rsty3\",\"rsty4\",\"rsty5\",\"rsty6\",\"rsty7\",\"rsty8\",\"rsty9\",\"rsty10\",\n",
    "                 \"rsty11\",\"rsty12\",\"rsty13\",\"vtype1\",\"vtype2\",\"vtype3\",\"vtype4\",\"vtype5\",\"vtype6\",\"vtype7\",\"vtype8\",\n",
    "                 \"age1\",\"male1\",\"female1\",\"age2\",\"male2\",\"female2\",\n",
    "                 \"rstat1\",\"rstat2\",\"rstat3\",\"rstat4\",\"rstat5\",\"rstat6\",\"rstat7\",\"rstat8\",\"rstat9\", \"y_h\"]\n",
    "split = StratifiedShuffleSplit(n_splits = 1, test_size = 0.2, random_state = 42)\n",
    "for train_index, test_index in split.split(data, data[label_name]):\n",
    "    strat_train_set = data.loc[train_index]\n",
    "    strat_test_set = data.loc[test_index]\n",
    "train = strat_train_set[names]\n",
    "test = strat_test_set[names]\n",
    "X_train = strat_train_set[feature_names]\n",
    "y_train = strat_train_set[label_name]\n",
    "X_test = strat_test_set[feature_names]\n",
    "y_test = strat_test_set[label_name]"
   ]
  },
  {
   "cell_type": "code",
   "execution_count": 23,
   "metadata": {},
   "outputs": [
    {
     "data": {
      "text/plain": [
       "GridSearchCV(cv=10, error_score='raise-deprecating',\n",
       "       estimator=RandomForestClassifier(bootstrap=True, class_weight=None, criterion='gini',\n",
       "            max_depth=None, max_features='auto', max_leaf_nodes=None,\n",
       "            min_impurity_decrease=0.0, min_impurity_split=None,\n",
       "            min_samples_leaf=1, min_samples_split=2,\n",
       "            min_weight_fraction_leaf=0.0, n_estimators='warn', n_jobs=None,\n",
       "            oob_score=False, random_state=None, verbose=0,\n",
       "            warm_start=False),\n",
       "       fit_params=None, iid='warn', n_jobs=None,\n",
       "       param_grid={'n_estimators': [200], 'n_jobs': [-1], 'random_state': [42], 'max_depth': [10], 'verbose': [0]},\n",
       "       pre_dispatch='2*n_jobs', refit=True, return_train_score='warn',\n",
       "       scoring=make_scorer(accuracy_score), verbose=0)"
      ]
     },
     "execution_count": 23,
     "metadata": {},
     "output_type": "execute_result"
    }
   ],
   "source": [
    "# Random Forest-----------------------------------------------------------------------------------------------------------------------\n",
    "# (1) 초기화\n",
    "RF_ = RandomForestClassifier()\n",
    "# (2) GridSearch & Parameter 찾기 (Paramter & Scorer Metric 설정)\n",
    "grid_RF_m = GridSearchCV(RF_, param_grid = {\n",
    "    'n_estimators': [200],\n",
    "    'n_jobs': [-1],\n",
    "    'random_state': [42],\n",
    "    'max_depth':[10],\n",
    "    'verbose': [0]\n",
    "}, \n",
    "                         cv=10, scoring = scorer)\n",
    "# (3) 학습\n",
    "grid_RF_m.fit(X_train, y_train)"
   ]
  },
  {
   "cell_type": "code",
   "execution_count": 42,
   "metadata": {},
   "outputs": [
    {
     "name": "stdout",
     "output_type": "stream",
     "text": [
      "RandomForestClassifer\n",
      "Validation\n",
      "Best Parameter : {'max_depth': 10, 'n_estimators': 200, 'n_jobs': -1, 'random_state': 42, 'verbose': 0}\n",
      "Score of MLPClassifer :  0.684035715826252\n",
      "정밀도 :  0.6703612982241274\n",
      "재현율 :  0.8493288850958182\n",
      "f1 score :  0.7493069578014305\n",
      "roc_auc_score :  0.749788848101671\n",
      "Evaluation\n",
      "CONFUSION MATRIX\n",
      "[[1067 1507]\n",
      " [ 598 2624]]\n",
      "Accuracy of RandomForestClassifer :  0.6368184955141477\n",
      "정밀도 :  0.63519728879206\n",
      "재현율 :  0.8144009931719429\n",
      "f1 score :  0.7137222902216783\n",
      "roc_auc_score :  0.6838869283003361\n",
      "<bound method BaseEstimator.get_params of GridSearchCV(cv=10, error_score='raise-deprecating',\n",
      "       estimator=RandomForestClassifier(bootstrap=True, class_weight=None, criterion='gini',\n",
      "            max_depth=None, max_features='auto', max_leaf_nodes=None,\n",
      "            min_impurity_decrease=0.0, min_impurity_split=None,\n",
      "            min_samples_leaf=1, min_samples_split=2,\n",
      "            min_weight_fraction_leaf=0.0, n_estimators='warn', n_jobs=None,\n",
      "            oob_score=False, random_state=None, verbose=0,\n",
      "            warm_start=False),\n",
      "       fit_params=None, iid='warn', n_jobs=None,\n",
      "       param_grid={'n_estimators': [200], 'n_jobs': [-1], 'random_state': [42], 'max_depth': [10], 'verbose': [0]},\n",
      "       pre_dispatch='2*n_jobs', refit=True, return_train_score='warn',\n",
      "       scoring=make_scorer(accuracy_score), verbose=0)>\n",
      "[8.21006989e-03 7.31130477e-03 5.64068534e-03 8.20267703e-03\n",
      " 7.29153285e-03 6.82189319e-03 6.46552991e-03 6.89852422e-03\n",
      " 6.59543693e-03 7.47180316e-03 6.09991912e-03 7.08402327e-03\n",
      " 6.75855981e-03 3.81329452e-03 3.59300660e-03 5.52104520e-03\n",
      " 7.03145827e-03 9.35390499e-03 3.31034256e-03 4.12824897e-03\n",
      " 3.81416181e-03 4.11529615e-03 3.47898616e-03 4.99170678e-03\n",
      " 3.15575219e-03 3.49803079e-03 4.47483789e-03 3.56073332e-03\n",
      " 3.78802781e-03 5.53006098e-03 3.60288134e-03 3.40682571e-03\n",
      " 3.71194945e-03 2.91720819e-03 3.91751169e-03 0.00000000e+00\n",
      " 0.00000000e+00 4.66704682e-02 1.04282524e-01 2.65236628e-02\n",
      " 8.37358168e-03 5.14551064e-03 1.08013432e-02 7.75000350e-03\n",
      " 1.08618944e-03 2.98154579e-03 7.08089323e-03 6.65289826e-03\n",
      " 8.29907122e-04 1.23423043e-02 5.41070377e-04 2.10126018e-03\n",
      " 1.73292046e-04 0.00000000e+00 5.93147433e-03 4.56650925e-03\n",
      " 4.78631646e-03 4.10954070e-05 1.51474628e-03 2.04610030e-03\n",
      " 1.38782087e-02 5.38480868e-03 5.91292192e-03 7.78468478e-03\n",
      " 3.31670703e-03 7.65315064e-03 3.53165167e-03 7.33933743e-04\n",
      " 8.27452056e-04 4.95771058e-04 6.80929825e-05 1.39668445e-04\n",
      " 1.60893930e-04 8.51625454e-03 1.18580901e-02 6.70733762e-03\n",
      " 7.19106074e-03 3.46934888e-03 1.43708794e-03 6.96104738e-03\n",
      " 8.87192124e-06 4.93369731e-02 6.28304153e-03 6.60707151e-03\n",
      " 3.27213150e-01 2.58341829e-02 2.27823451e-02 6.24907361e-03\n",
      " 5.28766875e-03 1.25777434e-03 8.66835439e-04 3.52839883e-03\n",
      " 3.55774418e-04 2.02293777e-04 5.19498783e-05 3.16494105e-04]\n"
     ]
    },
    {
     "data": {
      "image/png": "[encoded data removed]",
      "text/plain": [
       "<Figure size 432x288 with 1 Axes>"
      ]
     },
     "metadata": {
      "needs_background": "light"
     },
     "output_type": "display_data"
    }
   ],
   "source": [
    "from sklearn.metrics import confusion_matrix, precision_score, recall_score, f1_score, roc_curve, roc_auc_score\n",
    "# (4) Predition\n",
    "yobs = y_test\n",
    "a = grid_RF_m.predict(X_test)\n",
    "b = grid_RF_m.predict(X_train)\n",
    "y_scores = grid_RF_m.predict_proba(X_test)[:,1]\n",
    "y_scores_m = grid_RF_m.predict_proba(X_train)[:,1]\n",
    "fpr, tpr, thresholds = roc_curve(y_test, y_scores)\n",
    "# (5) validation\n",
    "print(\"RandomForestClassifer\")\n",
    "print(\"Validation\")\n",
    "print(\"Best Parameter :\", grid_RF_m.best_params_)\n",
    "print(\"Score of MLPClassifer : \", grid_RF_m.score(X_train,y_train))\n",
    "print(\"정밀도 : \", precision_score(y_train, b))\n",
    "print(\"재현율 : \", recall_score(y_train,b))\n",
    "print(\"f1 score : \", f1_score(y_train,b))\n",
    "print(\"roc_auc_score : \", roc_auc_score(y_train, y_scores_m))\n",
    "# (6) Evalution \n",
    "#Confusion Matrix & feature importance\n",
    "print(\"Evaluation\")\n",
    "print(\"CONFUSION MATRIX\", confusion_matrix(y_test, a), sep = '\\n')\n",
    "print(\"Accuracy of RandomForestClassifer : \", grid_RF_m.score(X_test,y_test))\n",
    "print(\"정밀도 : \", precision_score(y_test, a))\n",
    "print(\"재현율 : \", recall_score(y_test,a))\n",
    "print(\"f1 score : \", f1_score(y_test,a))\n",
    "print(\"roc_auc_score : \", roc_auc_score(y_test, y_scores))\n",
    "print(grid_RF_m.get_params)\n",
    "plot_roc_curve(fpr, tpr, \"RandomForestClassifer\")\n",
    "importances = grid_RF_m.best_estimator_.feature_importances_\n",
    "print(importances)\n"
   ]
  },
  {
   "cell_type": "code",
   "execution_count": 25,
   "metadata": {},
   "outputs": [],
   "source": [
    "y_test.to_csv(\"C:/acci/RandomForest/y_obs.csv\")\n",
    "yhat_RF = grid_RF_m.predict_proba(X_test)\n",
    "pd.DataFrame(yhat_RF).to_csv(\"C:/acci/RandomForest/yhat.csv\")\n",
    "pd.DataFrame(importances).to_csv(\"C:/acci/RandomForest/feature_importances1.csv\")"
   ]
  }
 ],
 "metadata": {
  "kernelspec": {
   "display_name": "Python 3",
   "language": "python",
   "name": "python3"
  },
  "language_info": {
   "codemirror_mode": {
    "name": "ipython",
    "version": 3
   },
   "file_extension": ".py",
   "mimetype": "text/x-python",
   "name": "python",
   "nbconvert_exporter": "python",
   "pygments_lexer": "ipython3",
   "version": "3.6.7"
  }
 },
 "nbformat": 4,
 "nbformat_minor": 2
}
