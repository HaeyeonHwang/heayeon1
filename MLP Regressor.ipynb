{
 "cells": [
  {
   "cell_type": "code",
   "execution_count": 50,
   "metadata": {},
   "outputs": [],
   "source": [
    "import pandas as pd\n",
    "import numpy as np\n",
    "import matplotlib as mpl\n",
    "import matplotlib.pyplot as plt\n",
    "import seaborn as sns\n",
    "%matplotlib inline\n",
    "\n",
    "plt.style.use('ggplot')\n",
    "mpl.rcParams['axes.unicode_minus'] = False\n",
    "\n",
    "import warnings\n",
    "warnings.filterwarnings('ignore')\n",
    "\n",
    "import os\n",
    "os.chdir('C:\\\\machine')\n",
    "\n",
    "from sklearn.linear_model import LinearRegression, Ridge, Lasso\n",
    "from sklearn.model_selection import GridSearchCV\n",
    "from sklearn import metrics\n",
    "import warnings\n",
    "pd.options.mode.chained_assignment = None\n",
    "warnings.filterwarnings(\"ignore\", category=DeprecationWarning)"
   ]
  },
  {
   "cell_type": "code",
   "execution_count": 51,
   "metadata": {},
   "outputs": [
    {
     "data": {
      "text/plain": [
       "(5481, 23)"
      ]
     },
     "execution_count": 51,
     "metadata": {},
     "output_type": "execute_result"
    }
   ],
   "source": [
    "train = pd.read_csv(\"train_1.csv\")\n",
    "train.shape\n"
   ]
  },
  {
   "cell_type": "code",
   "execution_count": 52,
   "metadata": {},
   "outputs": [
    {
     "data": {
      "text/plain": [
       "(1827, 23)"
      ]
     },
     "execution_count": 52,
     "metadata": {},
     "output_type": "execute_result"
    }
   ],
   "source": [
    "test = pd.read_csv(\"test_1.csv\")\n",
    "test.shape"
   ]
  },
  {
   "cell_type": "code",
   "execution_count": 53,
   "metadata": {
    "scrolled": true
   },
   "outputs": [
    {
     "data": {
      "text/plain": [
       "['weekday',\n",
       " 'weekend',\n",
       " 'mor',\n",
       " 'after',\n",
       " 'even',\n",
       " 'cover',\n",
       " 'road_l',\n",
       " 'entroph',\n",
       " 'bus_sta',\n",
       " 'subway',\n",
       " 'farea_A',\n",
       " 'farea_B',\n",
       " 'farea_C',\n",
       " 'farea_D',\n",
       " 'farea_E',\n",
       " 'farea_G',\n",
       " 'farea_H',\n",
       " 'farea_I',\n",
       " 'farea_J',\n",
       " 'farea_K',\n",
       " 'park_']"
      ]
     },
     "execution_count": 53,
     "metadata": {},
     "output_type": "execute_result"
    }
   ],
   "source": [
    "feature_names = [\"weekday\",\"weekend\",\"mor\",\"after\",\"even\",\"cover\",\"road_l\",\"entroph\",\"bus_sta\",\"subway\",\"farea_A\",\"farea_B\",\"farea_C\",\"farea_D\",\"farea_E\",\"farea_G\",\"farea_H\",\"farea_I\",\"farea_J\",\"farea_K\",\"park_\"]\n",
    "feature_names"
   ]
  },
  {
   "cell_type": "code",
   "execution_count": 54,
   "metadata": {
    "scrolled": true
   },
   "outputs": [
    {
     "name": "stdout",
     "output_type": "stream",
     "text": [
      "(5481, 21)\n",
      "   weekday  weekend  mor  after  even     cover    road_l   entroph   bus_sta  \\\n",
      "0        1        0    1      0     0  0.494579  0.293336  0.938266  0.276596   \n",
      "1        0        1    0      0     1  0.561740  0.633447  0.022005  0.446809   \n",
      "2        1        0    1      0     0  0.563192  0.554696  0.104860  0.319149   \n",
      "3        1        0    1      0     0  0.602839  0.622545  0.548271  0.191489   \n",
      "4        0        1    0      0     1  0.883886  0.847966  0.941868  0.212766   \n",
      "\n",
      "     subway    ...      farea_B   farea_C   farea_D   farea_E   farea_G  \\\n",
      "0  0.065589    ...     0.120805  0.028333  0.000000  0.001590  0.082723   \n",
      "1  0.110831    ...     0.049631  0.000000  0.000000  0.000000  0.002312   \n",
      "2  0.125210    ...     0.272878  0.004311  0.003192  0.072981  0.014798   \n",
      "3  0.066887    ...     0.045487  0.000000  0.000000  0.000000  0.000193   \n",
      "4  0.160596    ...     0.106159  0.001275  0.000000  0.000000  0.000000   \n",
      "\n",
      "    farea_H   farea_I   farea_J  farea_K     park_  \n",
      "0  0.004453  0.008547  0.026404      0.0  0.006659  \n",
      "1  0.012911  0.000592  0.000000      0.0  0.000749  \n",
      "2  0.018313  0.105590  0.009279      0.0  0.075888  \n",
      "3  0.008322  0.004000  0.001855      0.0  0.007394  \n",
      "4  0.000271  0.005288  0.001238      0.0  0.005606  \n",
      "\n",
      "[5 rows x 21 columns]\n",
      "(1827, 21)\n",
      "   weekday  weekend  mor  after  even     cover    road_l   entroph   bus_sta  \\\n",
      "0        1        0    1      0     0  0.728910  0.568358  0.000000  0.234043   \n",
      "1        0        1    1      0     0  0.782247  0.847967  0.318576  0.319149   \n",
      "2        0        1    0      1     0  0.453565  0.233876  0.499195  0.446809   \n",
      "3        0        1    0      0     1  0.299625  0.058291  0.838519  0.255319   \n",
      "4        0        1    0      1     0  0.217192  0.101473  0.827264  0.148936   \n",
      "\n",
      "     subway    ...      farea_B   farea_C   farea_D   farea_E   farea_G  \\\n",
      "0  0.303045    ...     0.184340  0.002694  0.000000  0.006142  0.007734   \n",
      "1  0.116931    ...     0.038922  0.001873  0.000000  0.000000  0.002614   \n",
      "2  0.117702    ...     0.078206  0.000000  0.001549  0.003334  0.002074   \n",
      "3  0.068798    ...     0.006470  0.004516  0.000000  0.000000  0.000000   \n",
      "4  0.141439    ...     0.029253  0.000000  0.000000  0.000000  0.000000   \n",
      "\n",
      "    farea_H   farea_I   farea_J  farea_K     park_  \n",
      "0  0.015888  0.005440  0.010948      0.0  0.013532  \n",
      "1  0.001150  0.000000  0.001737      0.0  0.001546  \n",
      "2  0.003610  0.051161  0.006992      0.0  0.001445  \n",
      "3  0.000401  0.012331  0.000000      0.0  0.001124  \n",
      "4  0.000138  0.000000  0.000000      0.0  0.002165  \n",
      "\n",
      "[5 rows x 21 columns]\n",
      "0    0.494579\n",
      "1    0.561740\n",
      "2    0.563192\n",
      "3    0.602839\n",
      "4    0.883886\n",
      "Name: pop, dtype: float64\n"
     ]
    }
   ],
   "source": [
    "X_train = train[feature_names]\n",
    "\n",
    "print(X_train.shape)\n",
    "print(X_train.head())\n",
    "X_test = test[feature_names]\n",
    "\n",
    "print(X_test.shape)\n",
    "print(X_test.head())\n",
    "label_name = \"pop\"\n",
    "\n",
    "y_train = train[label_name]\n",
    "y_test = test[label_name]\n",
    "print(y_train.head())"
   ]
  },
  {
   "cell_type": "code",
   "execution_count": 49,
   "metadata": {},
   "outputs": [
    {
     "ename": "TypeError",
     "evalue": "'AxesSubplot' object does not support indexing",
     "output_type": "error",
     "traceback": [
      "\u001b[1;31m---------------------------------------------------------------------------\u001b[0m",
      "\u001b[1;31mTypeError\u001b[0m                                 Traceback (most recent call last)",
      "\u001b[1;32m<ipython-input-49-c24a64bd17ff>\u001b[0m in \u001b[0;36m<module>\u001b[1;34m()\u001b[0m\n\u001b[0;32m      1\u001b[0m \u001b[1;31m# count값의 데이터 분포도를 파악\u001b[0m\u001b[1;33m\u001b[0m\u001b[1;33m\u001b[0m\u001b[0m\n\u001b[0;32m      2\u001b[0m \u001b[1;33m\u001b[0m\u001b[0m\n\u001b[1;32m----> 3\u001b[1;33m \u001b[0msns\u001b[0m\u001b[1;33m.\u001b[0m\u001b[0mdistplot\u001b[0m\u001b[1;33m(\u001b[0m\u001b[0mtrain\u001b[0m\u001b[1;33m[\u001b[0m\u001b[1;34m\"pop\"\u001b[0m\u001b[1;33m]\u001b[0m\u001b[1;33m,\u001b[0m \u001b[0max\u001b[0m\u001b[1;33m=\u001b[0m\u001b[0maxes\u001b[0m\u001b[1;33m[\u001b[0m\u001b[1;36m0\u001b[0m\u001b[1;33m]\u001b[0m\u001b[1;33m[\u001b[0m\u001b[1;36m0\u001b[0m\u001b[1;33m]\u001b[0m\u001b[1;33m)\u001b[0m\u001b[1;33m\u001b[0m\u001b[0m\n\u001b[0m\u001b[0;32m      4\u001b[0m \u001b[0mstats\u001b[0m\u001b[1;33m.\u001b[0m\u001b[0mprobplot\u001b[0m\u001b[1;33m(\u001b[0m\u001b[0mtrain\u001b[0m\u001b[1;33m[\u001b[0m\u001b[1;34m\"pop\"\u001b[0m\u001b[1;33m]\u001b[0m\u001b[1;33m,\u001b[0m \u001b[0mfit\u001b[0m\u001b[1;33m=\u001b[0m\u001b[1;32mTrue\u001b[0m\u001b[1;33m,\u001b[0m \u001b[0mplot\u001b[0m\u001b[1;33m=\u001b[0m\u001b[0maxes\u001b[0m\u001b[1;33m[\u001b[0m\u001b[1;36m0\u001b[0m\u001b[1;33m]\u001b[0m\u001b[1;33m[\u001b[0m\u001b[1;36m1\u001b[0m\u001b[1;33m]\u001b[0m\u001b[1;33m)\u001b[0m\u001b[1;33m\u001b[0m\u001b[0m\n",
      "\u001b[1;31mTypeError\u001b[0m: 'AxesSubplot' object does not support indexing"
     ]
    }
   ],
   "source": [
    "# count값의 데이터 분포도를 파악\n",
    "\n",
    "sns.distplot(train[\"pop\"], ax=axes[0][0])\n",
    "stats.probplot(train[\"pop\"], fit=True, plot=axes[0][1])"
   ]
  },
  {
   "cell_type": "code",
   "execution_count": 55,
   "metadata": {},
   "outputs": [
    {
     "data": {
      "text/plain": [
       "make_scorer(rmsle)"
      ]
     },
     "execution_count": 55,
     "metadata": {},
     "output_type": "execute_result"
    }
   ],
   "source": [
    "from sklearn.metrics import make_scorer\n",
    "\n",
    "def rmsle(predicted_values, actual_values):\n",
    "    # 넘파이로 배열 형태로 바꿔준다.\n",
    "    predicted_values = np.array(predicted_values)\n",
    "    actual_values = np.array(actual_values)\n",
    "    \n",
    "    # 예측값과 실제 값에 1을 더하고 로그를 씌워준다.\n",
    "    log_predict = np.log(predicted_values + 1)\n",
    "    log_actual = np.log(actual_values + 1)\n",
    "    \n",
    "    # 위에서 계산한 예측값에서 실제값을 빼주고 제곱을 해준다.\n",
    "    difference = log_predict - log_actual\n",
    "    # difference = (log_predict - log_actual) ** 2\n",
    "    difference = np.square(difference)\n",
    "    \n",
    "    # 평균을 낸다.\n",
    "    mean_difference = difference.mean()\n",
    "    \n",
    "    # 다시 루트를 씌운다.\n",
    "    score = np.sqrt(mean_difference)\n",
    "    \n",
    "    return score\n",
    "\n",
    "rmsle_scorer = make_scorer(rmsle)\n",
    "rmsle_scorer"
   ]
  },
  {
   "cell_type": "code",
   "execution_count": 56,
   "metadata": {},
   "outputs": [
    {
     "data": {
      "text/plain": [
       "make_scorer(rmse)"
      ]
     },
     "execution_count": 56,
     "metadata": {},
     "output_type": "execute_result"
    }
   ],
   "source": [
    "#RMSE SCORER\n",
    "from sklearn.metrics import make_scorer\n",
    "\n",
    "def rmse(predicted_values, actual_values):\n",
    "\n",
    "    difference = predicted_values - actual_values\n",
    "    \n",
    "    mean_difference = difference.mean()\n",
    "    \n",
    "    score = np.sqrt(mean_difference)\n",
    "    \n",
    "    return score\n",
    "\n",
    "rmse_scorer = make_scorer(rmse)\n",
    "rmse_scorer"
   ]
  },
  {
   "cell_type": "code",
   "execution_count": 57,
   "metadata": {
    "scrolled": false
   },
   "outputs": [
    {
     "name": "stdout",
     "output_type": "stream",
     "text": [
      "10,10 -0.02\n",
      "10,20 -0.01\n",
      "10,30 -0.0\n",
      "10,40 -0.01\n",
      "20,10 -0.0\n",
      "20,20 -0.0\n",
      "20,30 -0.01\n",
      "20,40 -0.01\n",
      "30,10 -0.01\n",
      "30,20 -0.0\n",
      "30,30 -0.01\n",
      "30,40 -0.01\n",
      "40,10 -0.01\n",
      "40,20 -0.01\n",
      "40,30 -0.02\n",
      "40,40 -0.07\n"
     ]
    }
   ],
   "source": [
    "from sklearn.model_selection import KFold\n",
    "from sklearn.model_selection import cross_val_score\n",
    "k_fold = KFold(n_splits=10, shuffle=True, random_state=0)\n",
    "from sklearn.neural_network import MLPRegressor\n",
    "from sklearn.metrics import mean_squared_error\n",
    "activation = 'logistic'\n",
    "# 'neg_mean_sqauare_error'   'rmsle_scorer'\n",
    "scoring = 'neg_mean_squared_error'\n",
    "alpha = 0.001\n",
    "learning_rate_init = 0.05\n",
    "nn = MLPRegressor(hidden_layer_sizes=(10,10,),  activation= activation, solver='adam', alpha= alpha, batch_size='auto',\n",
    "                  learning_rate='constant', learning_rate_init= learning_rate_init, power_t=0.5, max_iter=1000, shuffle=True,\n",
    "                  random_state=9, tol=0.0001, verbose=False, warm_start=False, momentum=0.9, nesterovs_momentum=True,\n",
    "                  early_stopping=False, validation_fraction=0.1, beta_1=0.9, beta_2=0.999, epsilon=1e-08)\n",
    "nn.fit(X_train, y_train)\n",
    "score = cross_val_score(nn, X_train, y_train, cv=k_fold, scoring = scoring )\n",
    "print(\"10,10\",round(np.mean(score)*100,2))\n",
    "nn = MLPRegressor(hidden_layer_sizes=(10,20,),  activation= activation, solver='adam', alpha= alpha, batch_size='auto',\n",
    "                  learning_rate='constant', learning_rate_init= learning_rate_init, power_t=0.5, max_iter=1000, shuffle=True,\n",
    "                  random_state=9, tol=0.0001, verbose=False, warm_start=False, momentum=0.9, nesterovs_momentum=True,\n",
    "                  early_stopping=False, validation_fraction=0.1, beta_1=0.9, beta_2=0.999, epsilon=1e-08)\n",
    "nn.fit(X_train, y_train)\n",
    "score = cross_val_score(nn, X_train, y_train, cv=k_fold, scoring = scoring )\n",
    "print(\"10,20\",round(np.mean(score)*100,2))\n",
    "nn = MLPRegressor(hidden_layer_sizes=(10,30,),  activation= activation, solver='adam', alpha= alpha, batch_size='auto',\n",
    "                  learning_rate='constant', learning_rate_init= learning_rate_init, power_t=0.5, max_iter=1000, shuffle=True,\n",
    "                  random_state=9, tol=0.0001, verbose=False, warm_start=False, momentum=0.9, nesterovs_momentum=True,\n",
    "                  early_stopping=False, validation_fraction=0.1, beta_1=0.9, beta_2=0.999, epsilon=1e-08)\n",
    "nn.fit(X_train, y_train)\n",
    "score = cross_val_score(nn, X_train, y_train, cv=k_fold, scoring = scoring)\n",
    "print(\"10,30\",round(np.mean(score)*100,2))\n",
    "nn = MLPRegressor(hidden_layer_sizes=(10,40,),  activation= activation, solver='adam', alpha= alpha, batch_size='auto',\n",
    "                  learning_rate='constant', learning_rate_init= learning_rate_init, power_t=0.5, max_iter=1000, shuffle=True,\n",
    "                  random_state=9, tol=0.0001, verbose=False, warm_start=False, momentum=0.9, nesterovs_momentum=True,\n",
    "                  early_stopping=False, validation_fraction=0.1, beta_1=0.9, beta_2=0.999, epsilon=1e-08)\n",
    "nn.fit(X_train, y_train)\n",
    "score = cross_val_score(nn, X_train, y_train, cv=k_fold, scoring = scoring)\n",
    "print(\"10,40\",round(np.mean(score)*100,2))\n",
    "nn = MLPRegressor(hidden_layer_sizes=(20,10,),  activation= activation, solver='adam', alpha= alpha, batch_size='auto',\n",
    "                  learning_rate='constant', learning_rate_init= learning_rate_init, power_t=0.5, max_iter=1000, shuffle=True,\n",
    "                  random_state=9, tol=0.0001, verbose=False, warm_start=False, momentum=0.9, nesterovs_momentum=True,\n",
    "                  early_stopping=False, validation_fraction=0.1, beta_1=0.9, beta_2=0.999, epsilon=1e-08)\n",
    "nn.fit(X_train, y_train)\n",
    "score = cross_val_score(nn, X_train, y_train, cv=k_fold, scoring = scoring)\n",
    "print(\"20,10\",round(np.mean(score)*100,2))\n",
    "nn = MLPRegressor(hidden_layer_sizes=(20,20,),  activation= activation, solver='adam', alpha= alpha, batch_size='auto',\n",
    "                  learning_rate='constant', learning_rate_init= learning_rate_init, power_t=0.5, max_iter=1000, shuffle=True,\n",
    "                  random_state=9, tol=0.0001, verbose=False, warm_start=False, momentum=0.9, nesterovs_momentum=True,\n",
    "                  early_stopping=False, validation_fraction=0.1, beta_1=0.9, beta_2=0.999, epsilon=1e-08)\n",
    "nn.fit(X_train, y_train)\n",
    "score = cross_val_score(nn, X_train, y_train, cv=k_fold, scoring = scoring)\n",
    "print(\"20,20\",round(np.mean(score)*100,2))\n",
    "nn = MLPRegressor(hidden_layer_sizes=(20,30,),  activation= activation, solver='adam', alpha= alpha, batch_size='auto',\n",
    "                  learning_rate='constant', learning_rate_init= learning_rate_init, power_t=0.5, max_iter=1000, shuffle=True,\n",
    "                  random_state=9, tol=0.0001, verbose=False, warm_start=False, momentum=0.9, nesterovs_momentum=True,\n",
    "                  early_stopping=False, validation_fraction=0.1, beta_1=0.9, beta_2=0.999, epsilon=1e-08)\n",
    "nn.fit(X_train, y_train)\n",
    "score = cross_val_score(nn, X_train, y_train, cv=k_fold, scoring = scoring)\n",
    "print(\"20,30\",round(np.mean(score)*100,2))\n",
    "nn = MLPRegressor(hidden_layer_sizes=(20,40,),  activation= activation, solver='adam', alpha= alpha, batch_size='auto',\n",
    "                  learning_rate='constant', learning_rate_init= learning_rate_init, power_t=0.5, max_iter=1000, shuffle=True,\n",
    "                  random_state=9, tol=0.0001, verbose=False, warm_start=False, momentum=0.9, nesterovs_momentum=True,\n",
    "                  early_stopping=False, validation_fraction=0.1, beta_1=0.9, beta_2=0.999, epsilon=1e-08)\n",
    "nn.fit(X_train, y_train)\n",
    "score = cross_val_score(nn, X_train, y_train, cv=k_fold, scoring = scoring)\n",
    "print(\"20,40\",round(np.mean(score)*100,2))\n",
    "nn = MLPRegressor(hidden_layer_sizes=(30,10,),  activation= activation, solver='adam', alpha= alpha, batch_size='auto',\n",
    "                  learning_rate='constant', learning_rate_init= learning_rate_init, power_t=0.5, max_iter=1000, shuffle=True,\n",
    "                  random_state=9, tol=0.0001, verbose=False, warm_start=False, momentum=0.9, nesterovs_momentum=True,\n",
    "                  early_stopping=False, validation_fraction=0.1, beta_1=0.9, beta_2=0.999, epsilon=1e-08)\n",
    "nn.fit(X_train, y_train)\n",
    "score = cross_val_score(nn, X_train, y_train, cv=k_fold, scoring = scoring)\n",
    "print(\"30,10\",round(np.mean(score)*100,2))\n",
    "nn = MLPRegressor(hidden_layer_sizes=(30,20,),  activation= activation, solver='adam', alpha= alpha, batch_size='auto',\n",
    "                  learning_rate='constant', learning_rate_init= learning_rate_init, power_t=0.5, max_iter=1000, shuffle=True,\n",
    "                  random_state=9, tol=0.0001, verbose=False, warm_start=False, momentum=0.9, nesterovs_momentum=True,\n",
    "                  early_stopping=False, validation_fraction=0.1, beta_1=0.9, beta_2=0.999, epsilon=1e-08)\n",
    "nn.fit(X_train, y_train)\n",
    "score = cross_val_score(nn, X_train, y_train, cv=k_fold, scoring = scoring)\n",
    "print(\"30,20\",round(np.mean(score)*100,2))\n",
    "nn = MLPRegressor(hidden_layer_sizes=(30,30,),  activation= activation, solver='adam', alpha= alpha, batch_size='auto',\n",
    "                  learning_rate='constant', learning_rate_init= learning_rate_init, power_t=0.5, max_iter=1000, shuffle=True,\n",
    "                  random_state=9, tol=0.0001, verbose=False, warm_start=False, momentum=0.9, nesterovs_momentum=True,\n",
    "                  early_stopping=False, validation_fraction=0.1, beta_1=0.9, beta_2=0.999, epsilon=1e-08)\n",
    "nn.fit(X_train, y_train)\n",
    "score = cross_val_score(nn, X_train, y_train, cv=k_fold, scoring = scoring)\n",
    "print(\"30,30\",round(np.mean(score)*100,2))\n",
    "nn = MLPRegressor(hidden_layer_sizes=(30,40,),  activation= activation, solver='adam', alpha= alpha, batch_size='auto',\n",
    "                  learning_rate='constant', learning_rate_init= learning_rate_init, power_t=0.5, max_iter=1000, shuffle=True,\n",
    "                  random_state=9, tol=0.0001, verbose=False, warm_start=False, momentum=0.9, nesterovs_momentum=True,\n",
    "                  early_stopping=False, validation_fraction=0.1, beta_1=0.9, beta_2=0.999, epsilon=1e-08)\n",
    "nn.fit(X_train, y_train)\n",
    "score = cross_val_score(nn, X_train, y_train, cv=k_fold, scoring = scoring)\n",
    "print(\"30,40\",round(np.mean(score)*100,2))\n",
    "nn = MLPRegressor(hidden_layer_sizes=(40,10,),  activation= activation, solver='adam', alpha= alpha, batch_size='auto',\n",
    "                  learning_rate='constant', learning_rate_init= learning_rate_init, power_t=0.5, max_iter=1000, shuffle=True,\n",
    "                  random_state=9, tol=0.0001, verbose=False, warm_start=False, momentum=0.9, nesterovs_momentum=True,\n",
    "                  early_stopping=False, validation_fraction=0.1, beta_1=0.9, beta_2=0.999, epsilon=1e-08)\n",
    "nn.fit(X_train, y_train)\n",
    "score = cross_val_score(nn, X_train, y_train, cv=k_fold, scoring =scoring)\n",
    "print(\"40,10\",round(np.mean(score)*100,2))\n",
    "nn = MLPRegressor(hidden_layer_sizes=(40,20,),  activation= activation, solver='adam', alpha= alpha, batch_size='auto',\n",
    "                  learning_rate='constant', learning_rate_init= learning_rate_init, power_t=0.5, max_iter=1000, shuffle=True,\n",
    "                  random_state=9, tol=0.0001, verbose=False, warm_start=False, momentum=0.9, nesterovs_momentum=True,\n",
    "                  early_stopping=False, validation_fraction=0.1, beta_1=0.9, beta_2=0.999, epsilon=1e-08)\n",
    "nn.fit(X_train, y_train)\n",
    "score = cross_val_score(nn, X_train, y_train, cv=k_fold, scoring = scoring)\n",
    "print(\"40,20\", round(np.mean(score)*100,2))\n",
    "nn = MLPRegressor(hidden_layer_sizes=(40,30,),  activation= activation, solver='adam', alpha= alpha, batch_size='auto',\n",
    "                  learning_rate='constant', learning_rate_init= learning_rate_init, power_t=0.5, max_iter=1000, shuffle=True,\n",
    "                  random_state=9, tol=0.0001, verbose=False, warm_start=False, momentum=0.9, nesterovs_momentum=True,\n",
    "                  early_stopping=False, validation_fraction=0.1, beta_1=0.9, beta_2=0.999, epsilon=1e-08)\n",
    "nn.fit(X_train, y_train)\n",
    "score = cross_val_score(nn, X_train, y_train, cv=k_fold, scoring = scoring)\n",
    "print(\"40,30\", round(np.mean(score)*100,2))\n",
    "nn = MLPRegressor(hidden_layer_sizes=(40,80,),  activation= activation, solver='adam', alpha= alpha, batch_size='auto',\n",
    "                  learning_rate='constant', learning_rate_init= learning_rate_init, power_t=0.5, max_iter=1000, shuffle=True,\n",
    "                  random_state=9, tol=0.0001, verbose=False, warm_start=False, momentum=0.9, nesterovs_momentum=True,\n",
    "                  early_stopping=False, validation_fraction=0.1, beta_1=0.9, beta_2=0.999, epsilon=1e-08)\n",
    "nn.fit(X_train, y_train)\n",
    "score = cross_val_score(nn, X_train, y_train, cv=k_fold, scoring = scoring)\n",
    "print(\"40,40\", round(np.mean(score)*100,2))"
   ]
  },
  {
   "cell_type": "code",
   "execution_count": 58,
   "metadata": {
    "scrolled": true
   },
   "outputs": [
    {
     "name": "stdout",
     "output_type": "stream",
     "text": [
      "20,10 -0.03\n"
     ]
    }
   ],
   "source": [
    "nn = MLPRegressor(hidden_layer_sizes=(100,100),  activation= activation, solver='adam', alpha= alpha, batch_size='auto',\n",
    "                  learning_rate='constant', learning_rate_init= learning_rate_init, power_t=0.5, max_iter=1000, shuffle=True,\n",
    "                  random_state=9, tol=0.0001, verbose=False, warm_start=False, momentum=0.9, nesterovs_momentum=True,\n",
    "                  early_stopping=False, validation_fraction=0.1, beta_1=0.9, beta_2=0.999, epsilon=1e-08)\n",
    "nn.fit(X_train, y_train)\n",
    "score = cross_val_score(nn, X_train, y_train, cv=k_fold, scoring = scoring)\n",
    "print(\"20,10\",round(np.mean(score)*100,2))"
   ]
  },
  {
   "cell_type": "code",
   "execution_count": 59,
   "metadata": {},
   "outputs": [
    {
     "data": {
      "text/plain": [
       "MLPRegressor(activation='logistic', alpha=0.001, batch_size='auto',\n",
       "       beta_1=0.9, beta_2=0.999, early_stopping=False, epsilon=1e-08,\n",
       "       hidden_layer_sizes=(100, 100), learning_rate='constant',\n",
       "       learning_rate_init=0.05, max_iter=1000, momentum=0.9,\n",
       "       nesterovs_momentum=True, power_t=0.5, random_state=9, shuffle=True,\n",
       "       solver='adam', tol=0.0001, validation_fraction=0.1, verbose=False,\n",
       "       warm_start=False)"
      ]
     },
     "execution_count": 59,
     "metadata": {},
     "output_type": "execute_result"
    }
   ],
   "source": [
    "## Fitting ##\n",
    "nn.fit(X_train, y_train)"
   ]
  },
  {
   "cell_type": "code",
   "execution_count": 60,
   "metadata": {},
   "outputs": [
    {
     "name": "stdout",
     "output_type": "stream",
     "text": [
      "0    0.728910\n",
      "1    0.782247\n",
      "2    0.453565\n",
      "3    0.299625\n",
      "4    0.217192\n",
      "Name: pop, dtype: float64\n"
     ]
    },
    {
     "ename": "AttributeError",
     "evalue": "'numpy.ndarray' object has no attribute 'head'",
     "output_type": "error",
     "traceback": [
      "\u001b[1;31m---------------------------------------------------------------------------\u001b[0m",
      "\u001b[1;31mAttributeError\u001b[0m                            Traceback (most recent call last)",
      "\u001b[1;32m<ipython-input-60-a7f502c0b8dc>\u001b[0m in \u001b[0;36m<module>\u001b[1;34m()\u001b[0m\n\u001b[0;32m      3\u001b[0m \u001b[0mpredictions\u001b[0m \u001b[1;33m=\u001b[0m \u001b[0mnn\u001b[0m\u001b[1;33m.\u001b[0m\u001b[0mpredict\u001b[0m\u001b[1;33m(\u001b[0m\u001b[0mX_test\u001b[0m\u001b[1;33m)\u001b[0m\u001b[1;33m\u001b[0m\u001b[0m\n\u001b[0;32m      4\u001b[0m \u001b[0mpredictions\u001b[0m \u001b[1;33m=\u001b[0m \u001b[0mnp\u001b[0m\u001b[1;33m.\u001b[0m\u001b[0marray\u001b[0m\u001b[1;33m(\u001b[0m\u001b[0mpredictions\u001b[0m\u001b[1;33m)\u001b[0m\u001b[1;33m\u001b[0m\u001b[0m\n\u001b[1;32m----> 5\u001b[1;33m \u001b[0mprint\u001b[0m\u001b[1;33m(\u001b[0m\u001b[0mpredictions\u001b[0m\u001b[1;33m.\u001b[0m\u001b[0mhead\u001b[0m\u001b[1;33m(\u001b[0m\u001b[1;33m)\u001b[0m\u001b[1;33m)\u001b[0m\u001b[1;33m\u001b[0m\u001b[0m\n\u001b[0m\u001b[0;32m      6\u001b[0m \u001b[0mprint\u001b[0m\u001b[1;33m(\u001b[0m\u001b[1;34m\"prediction shape = \"\u001b[0m\u001b[1;33m,\u001b[0m\u001b[0mpredictions\u001b[0m\u001b[1;33m.\u001b[0m\u001b[0mshape\u001b[0m\u001b[1;33m)\u001b[0m\u001b[1;33m\u001b[0m\u001b[0m\n\u001b[0;32m      7\u001b[0m \u001b[0mdifference\u001b[0m \u001b[1;33m=\u001b[0m \u001b[0mnp\u001b[0m\u001b[1;33m.\u001b[0m\u001b[0mabs\u001b[0m\u001b[1;33m(\u001b[0m\u001b[1;33m(\u001b[0m\u001b[0my_test\u001b[0m \u001b[1;33m-\u001b[0m \u001b[0mpredictions\u001b[0m\u001b[1;33m)\u001b[0m\u001b[1;33m)\u001b[0m\u001b[1;33m\u001b[0m\u001b[0m\n",
      "\u001b[1;31mAttributeError\u001b[0m: 'numpy.ndarray' object has no attribute 'head'"
     ]
    }
   ],
   "source": [
    "# 예측 TEST\n",
    "print(y_test.head())\n",
    "predictions = nn.predict(X_test)\n",
    "predictions = np.array(predictions)\n",
    "print(predictions.head())\n",
    "print(\"prediction shape = \",predictions.shape)\n",
    "difference = np.abs((y_test - predictions))\n",
    "print(\"Evaluation Result= \", np.mean(difference))"
   ]
  },
  {
   "cell_type": "code",
   "execution_count": 61,
   "metadata": {},
   "outputs": [
    {
     "data": {
      "text/plain": [
       "-0.019904670000000003"
      ]
     },
     "execution_count": 61,
     "metadata": {},
     "output_type": "execute_result"
    }
   ],
   "source": [
    "0.020118-0.04002267"
   ]
  },
  {
   "cell_type": "code",
   "execution_count": 62,
   "metadata": {
    "scrolled": true
   },
   "outputs": [
    {
     "data": {
      "text/plain": [
       "[Text(0.5,1,'test')]"
      ]
     },
     "execution_count": 62,
     "metadata": {},
     "output_type": "execute_result"
    },
    {
     "data": {
      "image/png": "[encoded data removed]",
      "text/plain": [
       "<Figure size 864x360 with 2 Axes>"
      ]
     },
     "metadata": {},
     "output_type": "display_data"
    }
   ],
   "source": [
    "# 예측한 데이터를 시각화 해본다. \n",
    "fig,(ax1,ax2)= plt.subplots(ncols=2)\n",
    "fig.set_size_inches(12,5)\n",
    "sns.distplot(y_train,ax=ax1,bins=50)\n",
    "ax1.set(title=\"train\")\n",
    "sns.distplot(predictions,ax=ax2,bins=50)\n",
    "ax2.set(title=\"test\")"
   ]
  },
  {
   "cell_type": "code",
   "execution_count": null,
   "metadata": {},
   "outputs": [],
   "source": []
  }
 ],
 "metadata": {
  "kernelspec": {
   "display_name": "Python 3",
   "language": "python",
   "name": "python3"
  },
  "language_info": {
   "codemirror_mode": {
    "name": "ipython",
    "version": 3
   },
   "file_extension": ".py",
   "mimetype": "text/x-python",
   "name": "python",
   "nbconvert_exporter": "python",
   "pygments_lexer": "ipython3",
   "version": "3.7.0"
  }
 },
 "nbformat": 4,
 "nbformat_minor": 2
}
