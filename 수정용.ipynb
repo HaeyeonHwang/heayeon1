{
 "cells": [
  {
   "cell_type": "code",
   "execution_count": 2,
   "metadata": {},
   "outputs": [],
   "source": [
    "# main function IMPORT\n",
    "import pandas as pd\n",
    "import numpy as np\n",
    "import seaborn as sns\n",
    "import matplotlib as mpl\n",
    "import matplotlib.pyplot as plt\n",
    "import warnings\n",
    "import os\n",
    "from sklearn.linear_model import LinearRegression, Ridge, Lasso\n",
    "from sklearn.ensemble import RandomForestRegressor,RandomForestClassifier\n",
    "from sklearn.neural_network import MLPRegressor\n",
    "from sklearn.svm import SVR\n",
    "from sklearn.model_selection import GridSearchCV\n",
    "from sklearn.model_selection import RandomizedSearchCV\n",
    "from sklearn.model_selection import KFold\n",
    "from sklearn.model_selection import GroupKFold, StratifiedKFold\n",
    "from sklearn.model_selection import cross_val_score\n",
    "from sklearn import metrics\n",
    "from sklearn.metrics import r2_score\n",
    "from sklearn.metrics import mean_squared_error\n",
    "from sklearn.metrics import make_scorer\n",
    "from sklearn.model_selection import StratifiedShuffleSplit\n",
    "from sklearn.model_selection import GroupShuffleSplit\n",
    "from scipy import stats\n",
    "from zlib import crc32\n",
    "from sklearn.linear_model import LogisticRegression\n",
    "pd.options.mode.chained_assignment = None\n",
    "k_fold = KFold(n_splits=10, shuffle=True, random_state=0)\n",
    "warnings.filterwarnings(\"ignore\", category=DeprecationWarning)\n",
    "%matplotlib inline\n",
    "plt.style.use('ggplot')\n",
    "mpl.rcParams['axes.unicode_minus'] = False\n",
    "warnings.filterwarnings('ignore')\n",
    "os.chdir('C:\\\\acci')\n",
    "from sklearn.metrics import classification_report"
   ]
  },
  {
   "cell_type": "code",
   "execution_count": 3,
   "metadata": {},
   "outputs": [],
   "source": [
    "def test_set_check(identifier, test_ratio):\n",
    "    return crc32(np.int64(identifier)) & 0xffffffff < test_ratio * 2 * 32\n",
    "\n",
    "def split_train_test_by_id(data, test_ratio, id_column):\n",
    "    ids = data[id_column]\n",
    "    in_test_set = ids.apply(lambda id_: test_set_check(id_, test_ratio))\n",
    "    return data.loc[~in_test_set], data.loc[in_test_set]\n",
    "#ROC곡선 정의\n",
    "def plot_roc_curve(fpr, tpr, label=None):\n",
    "    plt.plot(fpr, tpr, linewidth=2, label=label)\n",
    "    plt.plot([0,1],[0,1], 'k--')\n",
    "    plt.axis([0,1,0,1])\n",
    "    plt.xlabel('거짓 양성 비율')\n",
    "    plt.ylabel('진짜 양성 비율')"
   ]
  },
  {
   "cell_type": "code",
   "execution_count": 4,
   "metadata": {},
   "outputs": [],
   "source": [
    "# 데이터 불러오기 및 전처리\n",
    "# 0. Data set split\n",
    "data = pd.read_csv(\"traffic_1.csv\",encoding='CP949')\n",
    "\n",
    "feature_names_raw = [\"acdnt_dd_dc\",\"dfk_code\",\"tmzon_div_1_code\",\"occrrnc_time_code\",\"acdnt_mcode\",\"lrg_violt_1_code\",\n",
    "                     \"wether_sttus_code\",\"road_stle_code\",\"wrngdo_vhcle_asort_code\",\"acdnt_age_1_code\",\"sexdstn_div_1_code\",\n",
    "                     \"acdnt_age_2_code\",\"sexdstn_div_2_code\",\"rdse_sttus_code\",\"acdnt_year\",\"month\"]\n",
    "feature_names = [\"spring\",\"summer\",\"fall\",\"winter\",\"mon\",\"tue\",\"wed\",\"thur\",\"fri\",\"sat\",\"sun\",\n",
    "                 \"day\",\"night\",\"h1\",\"h2\",\"h3\",\"h4\",\"h5\",\"h6\",\"h7\",\"h8\",\"h9\",\"h10\",\"h11\",\"h12\",\n",
    "                 \"h13\",\"h14\",\"h15\",\"h16\",\"h17\",\"h18\",\"h19\",\"h20\",\"h21\",\"h22\",\"h23\",\"h24\",\n",
    "                 \"acm1\",\"acm2\",\"acm3\",\"acm4\",\"acm5\",\"violt1\",\"violt2\",\"violt3\",\"violt4\",\n",
    "                 \"violt5\",\"violt6\",\"violt7\",\"violt8\",\"violt9\",\"violt10\",\"violt11\",\"violt12\",\n",
    "                 \"weath1\",\"weath2\",\"weath3\",\"weath4\",\"weath5\",\"weath6\",\n",
    "                 \"rsty1\",\"rsty2\",\"rsty3\",\"rsty4\",\"rsty5\",\"rsty6\",\"rsty7\",\"rsty8\",\"rsty9\",\"rsty10\",\n",
    "                 \"rsty11\",\"rsty12\",\"rsty13\",\"vtype1\",\"vtype2\",\"vtype3\",\"vtype4\",\"vtype5\",\"vtype6\",\"vtype7\",\"vtype8\",\n",
    "                 \"age1\",\"male1\",\"female1\",\"age2\",\"male2\",\"female2\",\n",
    "                 \"rstat1\",\"rstat2\",\"rstat3\",\"rstat4\",\"rstat5\",\"rstat6\",\"rstat7\",\"rstat8\",\"rstat9\"]\n",
    "label_name = \"y_h\"\n",
    "names = [\"spring\",\"summer\",\"fall\",\"winter\",\"mon\",\"tue\",\"wed\",\"thur\",\"fri\",\"sat\",\"sun\",\n",
    "                 \"day\",\"night\",\"h1\",\"h2\",\"h3\",\"h4\",\"h5\",\"h6\",\"h7\",\"h8\",\"h9\",\"h10\",\"h11\",\"h12\",\n",
    "                 \"h13\",\"h14\",\"h15\",\"h16\",\"h17\",\"h18\",\"h19\",\"h20\",\"h21\",\"h22\",\"h23\",\"h24\",\n",
    "                 \"acm1\",\"acm2\",\"acm3\",\"acm4\",\"acm5\",\"violt1\",\"violt2\",\"violt3\",\"violt4\",\n",
    "                 \"violt5\",\"violt6\",\"violt7\",\"violt8\",\"violt9\",\"violt10\",\"violt11\",\"violt12\",\n",
    "                 \"weath1\",\"weath2\",\"weath3\",\"weath4\",\"weath5\",\"weath6\",\n",
    "                 \"rsty1\",\"rsty2\",\"rsty3\",\"rsty4\",\"rsty5\",\"rsty6\",\"rsty7\",\"rsty8\",\"rsty9\",\"rsty10\",\n",
    "                 \"rsty11\",\"rsty12\",\"rsty13\",\"vtype1\",\"vtype2\",\"vtype3\",\"vtype4\",\"vtype5\",\"vtype6\",\"vtype7\",\"vtype8\",\n",
    "                 \"age1\",\"male1\",\"female1\",\"age2\",\"male2\",\"female2\",\n",
    "                 \"rstat1\",\"rstat2\",\"rstat3\",\"rstat4\",\"rstat5\",\"rstat6\",\"rstat7\",\"rstat8\",\"rstat9\", \"y_h\"]\n"
   ]
  },
  {
   "cell_type": "code",
   "execution_count": 5,
   "metadata": {},
   "outputs": [],
   "source": [
    "data1 = data[names]\n",
    "from sklearn.decomposition import PCA\n",
    "pca = PCA(n_components = 43)\n",
    "data_d = pca.fit_transform(data1)"
   ]
  },
  {
   "cell_type": "code",
   "execution_count": 6,
   "metadata": {},
   "outputs": [
    {
     "data": {
      "text/plain": [
       "array([[ 0.64565585,  0.40640579, -0.79867618, ..., -0.48944046,\n",
       "         0.05416014, -0.06824386],\n",
       "       [-0.59845455,  0.56495106, -0.53805827, ..., -0.32366767,\n",
       "         0.10342609,  0.0451884 ],\n",
       "       [-1.38421907, -0.18676602,  0.81220753, ...,  0.0142748 ,\n",
       "        -0.01839765,  0.00484316],\n",
       "       ...,\n",
       "       [ 2.20367917,  0.32464573, -0.81847738, ..., -0.01929724,\n",
       "         0.13256895,  0.06535254],\n",
       "       [-0.11149532, -0.15562981,  0.85650996, ...,  0.02236524,\n",
       "         0.01792099,  0.00402762],\n",
       "       [-2.07183941, -0.69513054, -0.25005283, ..., -0.0209333 ,\n",
       "        -0.01405924, -0.01806378]])"
      ]
     },
     "execution_count": 6,
     "metadata": {},
     "output_type": "execute_result"
    }
   ],
   "source": [
    "data_d"
   ]
  },
  {
   "cell_type": "code",
   "execution_count": 7,
   "metadata": {},
   "outputs": [
    {
     "name": "stdout",
     "output_type": "stream",
     "text": [
      "1    0.555954\n",
      "0    0.444046\n",
      "Name: y_h, dtype: float64\n",
      "1    0.555968\n",
      "0    0.444032\n",
      "Name: y_h, dtype: float64\n",
      "1    0.555901\n",
      "0    0.444099\n",
      "Name: y_h, dtype: float64\n",
      "23183\n",
      "5796\n",
      "5796\n"
     ]
    }
   ],
   "source": [
    "split = StratifiedShuffleSplit(n_splits = 1, test_size = 0.2, random_state = 42)\n",
    "for train_index, test_index in split.split(data, data[label_name]):\n",
    "    strat_train_set = data.loc[train_index]\n",
    "    strat_test_set = data.loc[test_index]\n",
    "train = strat_train_set[names]\n",
    "test = strat_test_set[names]\n",
    "X_train = strat_train_set[feature_names]\n",
    "y_train = strat_train_set[label_name]\n",
    "X_test = strat_test_set[feature_names]\n",
    "y_test = strat_test_set[label_name]\n",
    "#계층화 됐는지 확인\n",
    "print(data[label_name].value_counts()/len(data))\n",
    "print(strat_train_set[label_name].value_counts()/len(strat_train_set))\n",
    "print(strat_test_set[label_name].value_counts()/len(strat_test_set))\n",
    "print(len(strat_train_set))\n",
    "print(len(strat_test_set))\n",
    "print(len(y_test))"
   ]
  },
  {
   "cell_type": "code",
   "execution_count": 5,
   "metadata": {
    "scrolled": true
   },
   "outputs": [
    {
     "name": "stdout",
     "output_type": "stream",
     "text": [
      "(23183, 96)\n",
      "       spring  summer  fall  winter  mon  tue  wed  thur  fri  sat   ...    \\\n",
      "21672       0       0     0       1    0    0    1     0    0    0   ...     \n",
      "4633        0       0     0       1    1    0    0     0    0    0   ...     \n",
      "9440        0       1     0       0    0    0    0     0    0    0   ...     \n",
      "22410       0       0     0       0    0    1    0     0    0    0   ...     \n",
      "14169       0       0     0       1    1    0    0     0    0    0   ...     \n",
      "\n",
      "       female2  rstat1  rstat2  rstat3  rstat4  rstat5  rstat6  rstat7  \\\n",
      "21672        0       1       0       0       0       0       0       0   \n",
      "4633         0       1       0       0       0       0       0       0   \n",
      "9440         1       1       0       0       0       0       0       0   \n",
      "22410        0       1       0       0       0       0       0       0   \n",
      "14169        1       1       0       0       0       0       0       0   \n",
      "\n",
      "       rstat8  rstat9  \n",
      "21672       0       0  \n",
      "4633        0       0  \n",
      "9440        0       0  \n",
      "22410       0       0  \n",
      "14169       0       0  \n",
      "\n",
      "[5 rows x 96 columns]\n",
      "(5796, 96)\n",
      "       spring  summer  fall  winter  mon  tue  wed  thur  fri  sat   ...    \\\n",
      "8284        1       0     0       0    0    0    0     0    0    1   ...     \n",
      "12265       0       0     0       1    0    0    0     0    0    1   ...     \n",
      "25798       0       0     0       1    0    0    0     0    1    0   ...     \n",
      "18235       0       0     0       1    0    0    0     0    1    0   ...     \n",
      "12718       0       0     0       1    0    0    0     0    0    1   ...     \n",
      "\n",
      "       female2  rstat1  rstat2  rstat3  rstat4  rstat5  rstat6  rstat7  \\\n",
      "8284         0       1       0       0       0       0       0       0   \n",
      "12265        0       1       0       0       0       0       0       0   \n",
      "25798        0       0       1       0       0       0       0       0   \n",
      "18235        0       1       0       0       0       0       0       0   \n",
      "12718        0       1       0       0       0       0       0       0   \n",
      "\n",
      "       rstat8  rstat9  \n",
      "8284        0       0  \n",
      "12265       0       0  \n",
      "25798       0       0  \n",
      "18235       0       0  \n",
      "12718       0       0  \n",
      "\n",
      "[5 rows x 96 columns]\n"
     ]
    }
   ],
   "source": [
    "# 데이터 확인\n",
    "print(X_train.shape)\n",
    "print(X_train.head())\n",
    "print(X_test.shape)\n",
    "print(X_test.head())"
   ]
  },
  {
   "cell_type": "code",
   "execution_count": 45,
   "metadata": {},
   "outputs": [],
   "source": [
    "#splited data export\n",
    "import csv\n",
    "train.to_csv(\"training.csv\")\n",
    "test.to_csv(\"test.csv\")"
   ]
  },
  {
   "cell_type": "code",
   "execution_count": 26,
   "metadata": {},
   "outputs": [],
   "source": [
    "pd.DataFrame(feature_names).to_csv(\"C:/acci/feature_names.csv\")"
   ]
  },
  {
   "cell_type": "code",
   "execution_count": 8,
   "metadata": {},
   "outputs": [],
   "source": [
    "#Stratified K-fold\n",
    "skf = StratifiedKFold(n_splits=10)\n",
    "#scoring\n",
    "from sklearn.metrics import roc_auc_score, accuracy_score\n",
    "ROC_scorer = make_scorer(roc_auc_score, greater_is_better=True)\n",
    "Accuracy_scorer = make_scorer(accuracy_score, greater_is_better=True)\n",
    "#scorer 선택\n",
    "scorer = Accuracy_scorer"
   ]
  },
  {
   "cell_type": "code",
   "execution_count": 71,
   "metadata": {},
   "outputs": [
    {
     "name": "stdout",
     "output_type": "stream",
     "text": [
      "43\n",
      "43\n"
     ]
    }
   ],
   "source": [
    "#PCA\n",
    "from sklearn.decomposition import PCA\n",
    "pca = PCA()\n",
    "pca.fit(X_train)\n",
    "consum = np.cumsum(pca.explained_variance_ratio_)\n",
    "d = np.argmax(consum >= 0.95) + 1\n",
    "print(d)\n",
    "pca = PCA()\n",
    "pca.fit(X_test)\n",
    "consum = np.cumsum(pca.explained_variance_ratio_)\n",
    "d = np.argmax(consum >= 0.95) + 1\n",
    "print(d)"
   ]
  },
  {
   "cell_type": "code",
   "execution_count": null,
   "metadata": {},
   "outputs": [],
   "source": [
    "b = grid_nn_m.predict(X_train_m)\n",
    "y_scores_m = grid_nn_m.predict_proba(X_train_m)[:,1]\n",
    "#validation\n",
    "print(\"Score of MLPClassifer : \", grid_nn_m.score(X_train_m,y_train))\n",
    "print(\"정밀도 : \", precision_score(y_train, b))\n",
    "print(\"재현율 : \", recall_score(y_train,b))\n",
    "print(\"f1 score : \", f1_score(y_train,b))\n",
    "print(\"roc_auc_score : \", roc_auc_score(y_train, y_scores_m))\n",
    "plot_roc_curve(fpr, tpr, \"MLPClassifer\")"
   ]
  },
  {
   "cell_type": "code",
   "execution_count": 7,
   "metadata": {},
   "outputs": [
    {
     "data": {
      "text/plain": [
       "LogisticRegression(C=1e+50, class_weight=None, dual=False, fit_intercept=True,\n",
       "          intercept_scaling=1, max_iter=100, multi_class='warn',\n",
       "          n_jobs=None, penalty='l2', random_state=None, solver='warn',\n",
       "          tol=0.0001, verbose=0, warm_start=False)"
      ]
     },
     "execution_count": 7,
     "metadata": {},
     "output_type": "execute_result"
    }
   ],
   "source": [
    "# -------Logistic Regression Model-------------------------------------------------------------\n",
    "# 1-(1) 초기화\n",
    "Model_l = LogisticRegression(C=1e50)\n",
    "# 1-(2) 학습\n",
    "Model_l.fit(X_train, y_train)\n",
    "\n",
    "#해야할 것: 시각화(박스플랏, 밀도그림, ROC곡선)\n",
    "#이항편차 구하기"
   ]
  },
  {
   "cell_type": "code",
   "execution_count": 9,
   "metadata": {},
   "outputs": [
    {
     "name": "stdout",
     "output_type": "stream",
     "text": [
      "LogisticRegrresionModel\n",
      "Validation\n",
      "Score of LRMClassifer(Accuracy) :  0.6453435707199241\n",
      "정밀도 :  0.658471986417657\n",
      "재현율 :  0.7522693769881295\n",
      "f1 score :  0.7022524806257695\n",
      "roc_auc_score :  0.6858999876438964\n",
      "CONFUSION MATRIX\n",
      "[[1325 1249]\n",
      " [ 828 2394]]\n",
      "Accuracy of LogisticRegresiion :  0.6416494133885439\n",
      "정밀도 :  0.65715069997255\n",
      "재현율 :  0.7430167597765364\n",
      "f1 score :  0.6974508375819374\n",
      "roc_auc_score :  0.6876520782479814\n"
     ]
    }
   ],
   "source": [
    "from sklearn.metrics import confusion_matrix, precision_score, recall_score, f1_score, roc_curve, roc_auc_score\n",
    "# Evalution\n",
    "a = Model_l.predict(X_test)\n",
    "b = Model_l.predict(X_train)\n",
    "y_scores = Model_l.predict_proba(X_test)[:,1]\n",
    "y_scores_m = Model_l.predict_proba(X_train)[:,1]\n",
    "fpr, tpr, thresholds = roc_curve(y_test, y_scores)\n",
    "# validation\n",
    "print(\"LogisticRegrresionModel\")\n",
    "print(\"Validation\")\n",
    "print(\"Score of LRMClassifer(Accuracy) : \", Model_l.score(X_train,y_train))\n",
    "print(\"정밀도 : \", precision_score(y_train, b))\n",
    "print(\"재현율 : \", recall_score(y_train,b))\n",
    "print(\"f1 score : \", f1_score(y_train,b))\n",
    "print(\"roc_auc_score : \", roc_auc_score(y_train, y_scores_m))\n",
    "# (6) Evalution \n",
    "#Confusion Matrix\n",
    "print(\"CONFUSION MATRIX\", confusion_matrix(y_test, a), sep = '\\n')\n",
    "print(\"Accuracy of LogisticRegresiion : \", Model_l.score(X_test,y_test))\n",
    "print(\"정밀도 : \", precision_score(y_test, a))\n",
    "print(\"재현율 : \", recall_score(y_test,a))\n",
    "print(\"f1 score : \", f1_score(y_test,a))\n",
    "print(\"roc_auc_score : \", roc_auc_score(y_test, y_scores))"
   ]
  },
  {
   "cell_type": "code",
   "execution_count": 12,
   "metadata": {},
   "outputs": [],
   "source": [
    "y_test.to_csv(\"C:/acci/Logistic/y_obs.csv\")\n",
    "yhat_l = Model_l.predict_proba(X_test)\n",
    "pd.DataFrame(yhat_l).to_csv(\"C:/acci/Logistic/yhat.csv\")"
   ]
  },
  {
   "cell_type": "code",
   "execution_count": 23,
   "metadata": {},
   "outputs": [
    {
     "data": {
      "text/plain": [
       "GridSearchCV(cv=10, error_score='raise-deprecating',\n",
       "       estimator=RandomForestClassifier(bootstrap=True, class_weight=None, criterion='gini',\n",
       "            max_depth=None, max_features='auto', max_leaf_nodes=None,\n",
       "            min_impurity_decrease=0.0, min_impurity_split=None,\n",
       "            min_samples_leaf=1, min_samples_split=2,\n",
       "            min_weight_fraction_leaf=0.0, n_estimators='warn', n_jobs=None,\n",
       "            oob_score=False, random_state=None, verbose=0,\n",
       "            warm_start=False),\n",
       "       fit_params=None, iid='warn', n_jobs=None,\n",
       "       param_grid={'n_estimators': [200], 'n_jobs': [-1], 'random_state': [42], 'max_depth': [10], 'verbose': [0]},\n",
       "       pre_dispatch='2*n_jobs', refit=True, return_train_score='warn',\n",
       "       scoring=make_scorer(accuracy_score), verbose=0)"
      ]
     },
     "execution_count": 23,
     "metadata": {},
     "output_type": "execute_result"
    }
   ],
   "source": [
    "# Random Forest-----------------------------------------------------------------------------------------------------------------------\n",
    "# (1) 초기화\n",
    "RF_ = RandomForestClassifier()\n",
    "# (2) GridSearch & Parameter 찾기 (Paramter & Scorer Metric 설정)\n",
    "grid_RF_m = GridSearchCV(RF_, param_grid = {\n",
    "    'n_estimators': [200],\n",
    "    'n_jobs': [-1],\n",
    "    'random_state': [42],\n",
    "    'max_depth':[10],\n",
    "    'verbose': [0]\n",
    "}, \n",
    "                         cv=10, scoring = scorer)\n",
    "# (3) 학습\n",
    "grid_RF_m.fit(X_train, y_train)"
   ]
  },
  {
   "cell_type": "code",
   "execution_count": 42,
   "metadata": {},
   "outputs": [
    {
     "name": "stdout",
     "output_type": "stream",
     "text": [
      "RandomForestClassifer\n",
      "Validation\n",
      "Best Parameter : {'max_depth': 10, 'n_estimators': 200, 'n_jobs': -1, 'random_state': 42, 'verbose': 0}\n",
      "Score of MLPClassifer :  0.684035715826252\n",
      "정밀도 :  0.6703612982241274\n",
      "재현율 :  0.8493288850958182\n",
      "f1 score :  0.7493069578014305\n",
      "roc_auc_score :  0.749788848101671\n",
      "Evaluation\n",
      "CONFUSION MATRIX\n",
      "[[1067 1507]\n",
      " [ 598 2624]]\n",
      "Accuracy of RandomForestClassifer :  0.6368184955141477\n",
      "정밀도 :  0.63519728879206\n",
      "재현율 :  0.8144009931719429\n",
      "f1 score :  0.7137222902216783\n",
      "roc_auc_score :  0.6838869283003361\n",
      "<bound method BaseEstimator.get_params of GridSearchCV(cv=10, error_score='raise-deprecating',\n",
      "       estimator=RandomForestClassifier(bootstrap=True, class_weight=None, criterion='gini',\n",
      "            max_depth=None, max_features='auto', max_leaf_nodes=None,\n",
      "            min_impurity_decrease=0.0, min_impurity_split=None,\n",
      "            min_samples_leaf=1, min_samples_split=2,\n",
      "            min_weight_fraction_leaf=0.0, n_estimators='warn', n_jobs=None,\n",
      "            oob_score=False, random_state=None, verbose=0,\n",
      "            warm_start=False),\n",
      "       fit_params=None, iid='warn', n_jobs=None,\n",
      "       param_grid={'n_estimators': [200], 'n_jobs': [-1], 'random_state': [42], 'max_depth': [10], 'verbose': [0]},\n",
      "       pre_dispatch='2*n_jobs', refit=True, return_train_score='warn',\n",
      "       scoring=make_scorer(accuracy_score), verbose=0)>\n",
      "[8.21006989e-03 7.31130477e-03 5.64068534e-03 8.20267703e-03\n",
      " 7.29153285e-03 6.82189319e-03 6.46552991e-03 6.89852422e-03\n",
      " 6.59543693e-03 7.47180316e-03 6.09991912e-03 7.08402327e-03\n",
      " 6.75855981e-03 3.81329452e-03 3.59300660e-03 5.52104520e-03\n",
      " 7.03145827e-03 9.35390499e-03 3.31034256e-03 4.12824897e-03\n",
      " 3.81416181e-03 4.11529615e-03 3.47898616e-03 4.99170678e-03\n",
      " 3.15575219e-03 3.49803079e-03 4.47483789e-03 3.56073332e-03\n",
      " 3.78802781e-03 5.53006098e-03 3.60288134e-03 3.40682571e-03\n",
      " 3.71194945e-03 2.91720819e-03 3.91751169e-03 0.00000000e+00\n",
      " 0.00000000e+00 4.66704682e-02 1.04282524e-01 2.65236628e-02\n",
      " 8.37358168e-03 5.14551064e-03 1.08013432e-02 7.75000350e-03\n",
      " 1.08618944e-03 2.98154579e-03 7.08089323e-03 6.65289826e-03\n",
      " 8.29907122e-04 1.23423043e-02 5.41070377e-04 2.10126018e-03\n",
      " 1.73292046e-04 0.00000000e+00 5.93147433e-03 4.56650925e-03\n",
      " 4.78631646e-03 4.10954070e-05 1.51474628e-03 2.04610030e-03\n",
      " 1.38782087e-02 5.38480868e-03 5.91292192e-03 7.78468478e-03\n",
      " 3.31670703e-03 7.65315064e-03 3.53165167e-03 7.33933743e-04\n",
      " 8.27452056e-04 4.95771058e-04 6.80929825e-05 1.39668445e-04\n",
      " 1.60893930e-04 8.51625454e-03 1.18580901e-02 6.70733762e-03\n",
      " 7.19106074e-03 3.46934888e-03 1.43708794e-03 6.96104738e-03\n",
      " 8.87192124e-06 4.93369731e-02 6.28304153e-03 6.60707151e-03\n",
      " 3.27213150e-01 2.58341829e-02 2.27823451e-02 6.24907361e-03\n",
      " 5.28766875e-03 1.25777434e-03 8.66835439e-04 3.52839883e-03\n",
      " 3.55774418e-04 2.02293777e-04 5.19498783e-05 3.16494105e-04]\n"
     ]
    },
    {
     "data": {
      "image/png": "[encoded data removed]",
      "text/plain": [
       "<Figure size 432x288 with 1 Axes>"
      ]
     },
     "metadata": {
      "needs_background": "light"
     },
     "output_type": "display_data"
    }
   ],
   "source": [
    "from sklearn.metrics import confusion_matrix, precision_score, recall_score, f1_score, roc_curve, roc_auc_score\n",
    "# (4) Predition\n",
    "yobs = y_test\n",
    "a = grid_RF_m.predict(X_test)\n",
    "b = grid_RF_m.predict(X_train)\n",
    "y_scores = grid_RF_m.predict_proba(X_test)[:,1]\n",
    "y_scores_m = grid_RF_m.predict_proba(X_train)[:,1]\n",
    "fpr, tpr, thresholds = roc_curve(y_test, y_scores)\n",
    "# (5) validation\n",
    "print(\"RandomForestClassifer\")\n",
    "print(\"Validation\")\n",
    "print(\"Best Parameter :\", grid_RF_m.best_params_)\n",
    "print(\"Score of MLPClassifer : \", grid_RF_m.score(X_train,y_train))\n",
    "print(\"정밀도 : \", precision_score(y_train, b))\n",
    "print(\"재현율 : \", recall_score(y_train,b))\n",
    "print(\"f1 score : \", f1_score(y_train,b))\n",
    "print(\"roc_auc_score : \", roc_auc_score(y_train, y_scores_m))\n",
    "# (6) Evalution \n",
    "#Confusion Matrix & feature importance\n",
    "print(\"Evaluation\")\n",
    "print(\"CONFUSION MATRIX\", confusion_matrix(y_test, a), sep = '\\n')\n",
    "print(\"Accuracy of RandomForestClassifer : \", grid_RF_m.score(X_test,y_test))\n",
    "print(\"정밀도 : \", precision_score(y_test, a))\n",
    "print(\"재현율 : \", recall_score(y_test,a))\n",
    "print(\"f1 score : \", f1_score(y_test,a))\n",
    "print(\"roc_auc_score : \", roc_auc_score(y_test, y_scores))\n",
    "print(grid_RF_m.get_params)\n",
    "plot_roc_curve(fpr, tpr, \"RandomForestClassifer\")\n",
    "importances = grid_RF_m.best_estimator_.feature_importances_\n",
    "print(importances)\n"
   ]
  },
  {
   "cell_type": "code",
   "execution_count": 25,
   "metadata": {},
   "outputs": [],
   "source": [
    "y_test.to_csv(\"C:/acci/RandomForest/y_obs.csv\")\n",
    "yhat_RF = grid_RF_m.predict_proba(X_test)\n",
    "pd.DataFrame(yhat_RF).to_csv(\"C:/acci/RandomForest/yhat.csv\")\n",
    "pd.DataFrame(importances).to_csv(\"C:/acci/RandomForest/feature_importances1.csv\")"
   ]
  },
  {
   "cell_type": "code",
   "execution_count": 125,
   "metadata": {},
   "outputs": [
    {
     "data": {
      "text/plain": [
       "GridSearchCV(cv=10, error_score='raise-deprecating',\n",
       "       estimator=ExtraTreesClassifier(bootstrap=False, class_weight=None, criterion='gini',\n",
       "           max_depth=None, max_features='auto', max_leaf_nodes=None,\n",
       "           min_impurity_decrease=0.0, min_impurity_split=None,\n",
       "           min_samples_leaf=1, min_samples_split=2,\n",
       "           min_weight_fraction_leaf=0.0, n_estimators='warn', n_jobs=None,\n",
       "           oob_score=False, random_state=None, verbose=0, warm_start=False),\n",
       "       fit_params=None, iid='warn', n_jobs=None,\n",
       "       param_grid={'n_estimators': [200], 'n_jobs': [-1], 'random_state': [42], 'verbose': [0], 'max_depth': [10]},\n",
       "       pre_dispatch='2*n_jobs', refit=True, return_train_score='warn',\n",
       "       scoring=make_scorer(accuracy_score), verbose=0)"
      ]
     },
     "execution_count": 125,
     "metadata": {},
     "output_type": "execute_result"
    }
   ],
   "source": [
    "# Extratreees--------------------------------------------------------------------------------------------------------------------------\n",
    "# (1) 초기화\n",
    "from sklearn.ensemble import ExtraTreesClassifier\n",
    "ET_ = ExtraTreesClassifier()\n",
    "# (2) GridSearch & Parameter 찾기 (Paramter & Scorer Metric 설정)\n",
    "grid_ET_m = GridSearchCV(ET_, param_grid = {\n",
    "    'n_estimators': [200],\n",
    "    'n_jobs': [-1],\n",
    "    'random_state': [42],\n",
    "    'verbose': [0],\n",
    "    'max_depth':[10]\n",
    "}, cv=10, scoring = scorer)\n",
    "# (3) 학습\n",
    "grid_ET_m.fit(X_train, y_train)"
   ]
  },
  {
   "cell_type": "code",
   "execution_count": null,
   "metadata": {},
   "outputs": [],
   "source": [
    "yobs.to_csv(\"C:/acci/Extratrees/y_obs.csv\")\n",
    "yhat_ET = grid_ET_m.predict_proba(X_test)\n",
    "pd.DataFrame(yhat_ET).to_csv(\"C:/acci/Extratrees/yhat.csv\")\n",
    "pd.DataFrame(importances).to_csv(\"C:/acci/Extratrees/feature_importances1.csv\")"
   ]
  },
  {
   "cell_type": "code",
   "execution_count": 18,
   "metadata": {},
   "outputs": [
    {
     "data": {
      "text/plain": [
       "GridSearchCV(cv=10, error_score='raise-deprecating',\n",
       "       estimator=GradientBoostingClassifier(criterion='friedman_mse', init=None,\n",
       "              learning_rate=0.1, loss='deviance', max_depth=3,\n",
       "              max_features=None, max_leaf_nodes=None,\n",
       "              min_impurity_decrease=0.0, min_impurity_split=None,\n",
       "              min_samples_leaf=1, min_sampl...      subsample=1.0, tol=0.0001, validation_fraction=0.1,\n",
       "              verbose=0, warm_start=False),\n",
       "       fit_params=None, iid='warn', n_jobs=None,\n",
       "       param_grid={'n_estimators': [400], 'random_state': [42], 'verbose': [0], 'learning_rate': [0.01], 'max_depth': [5]},\n",
       "       pre_dispatch='2*n_jobs', refit=True, return_train_score='warn',\n",
       "       scoring=make_scorer(accuracy_score), verbose=0)"
      ]
     },
     "execution_count": 18,
     "metadata": {},
     "output_type": "execute_result"
    }
   ],
   "source": [
    "#GradientBoostingClassifer----------------------------------------------------------------------------------------------------------------\n",
    "from sklearn.ensemble import GradientBoostingClassifier\n",
    "# (1) 초기화\n",
    "GB_ = GradientBoostingClassifier()\n",
    "# (2) GridSearch & Parameter 찾기 (Paramter & Scorer Metric 설정)\n",
    "grid_GB_m = GridSearchCV(GB_, param_grid = {\n",
    "    'n_estimators': [400],\n",
    "    'random_state': [42],\n",
    "    'verbose': [0],\n",
    "    'learning_rate' : [0.01],\n",
    "    'max_depth' : [5]\n",
    "}, cv=10, scoring = scorer)\n",
    "# (3) 학습\n",
    "grid_GB_m.fit(X_train, y_train)"
   ]
  },
  {
   "cell_type": "code",
   "execution_count": 41,
   "metadata": {},
   "outputs": [
    {
     "name": "stdout",
     "output_type": "stream",
     "text": [
      "GradientBoostingClassifer\n",
      "Validation\n",
      "Score of GBClassifer :  0.661346676443946\n",
      "정밀도 :  0.6676873918253229\n",
      "재현율 :  0.7781829466987353\n",
      "f1 score :  0.7187130522016408\n",
      "roc_auc_score :  0.7137830761114732\n",
      "GradidentBoostingClassifer\n",
      "Best Parameter : {'learning_rate': 0.01, 'max_depth': 5, 'n_estimators': 400, 'random_state': 42, 'verbose': 0}\n",
      "CONFUSION MATRIX\n",
      "[[1290 1284]\n",
      " [ 766 2456]]\n",
      "Accuracy of GradidentBoostingClassifer :  0.6463077984817115\n",
      "정밀도 :  0.6566844919786097\n",
      "재현율 :  0.7622594661700807\n",
      "f1 score :  0.7055443837977594\n",
      "<bound method BaseEstimator.get_params of GridSearchCV(cv=10, error_score='raise-deprecating',\n",
      "       estimator=GradientBoostingClassifier(criterion='friedman_mse', init=None,\n",
      "              learning_rate=0.1, loss='deviance', max_depth=3,\n",
      "              max_features=None, max_leaf_nodes=None,\n",
      "              min_impurity_decrease=0.0, min_impurity_split=None,\n",
      "              min_samples_leaf=1, min_sampl...      subsample=1.0, tol=0.0001, validation_fraction=0.1,\n",
      "              verbose=0, warm_start=False),\n",
      "       fit_params=None, iid='warn', n_jobs=None,\n",
      "       param_grid={'n_estimators': [400], 'random_state': [42], 'verbose': [0], 'learning_rate': [0.01], 'max_depth': [5]},\n",
      "       pre_dispatch='2*n_jobs', refit=True, return_train_score='warn',\n",
      "       scoring=make_scorer(accuracy_score), verbose=0)>\n",
      "roc_auc_score :  0.6887310651277132\n",
      "[3.29832970e-03 3.24118573e-04 2.57485090e-03 2.21074696e-03\n",
      " 1.94510387e-03 4.07497750e-03 1.06778248e-03 3.77424250e-03\n",
      " 1.52711555e-03 4.26538296e-03 1.76573158e-03 6.14835054e-03\n",
      " 6.26691357e-03 5.67475861e-03 4.66783455e-03 8.83348794e-03\n",
      " 4.19796632e-03 1.11468125e-02 1.25104309e-03 3.16715588e-03\n",
      " 5.92099892e-04 1.22239274e-03 1.75685880e-03 3.22871227e-03\n",
      " 3.65735119e-04 9.77972646e-04 4.78446151e-03 1.75512786e-03\n",
      " 1.54571901e-03 7.82081186e-03 3.98620991e-03 2.46241050e-03\n",
      " 7.55151025e-04 1.23985835e-03 5.34904764e-03 0.00000000e+00\n",
      " 0.00000000e+00 8.85547335e-03 1.62693832e-01 1.32432362e-02\n",
      " 1.24583771e-02 8.43724477e-04 5.92688511e-03 5.04936709e-03\n",
      " 3.43384403e-04 9.58864857e-04 4.15548515e-03 3.94319398e-03\n",
      " 4.67296934e-04 1.99229664e-02 1.57675553e-04 5.10126373e-03\n",
      " 0.00000000e+00 0.00000000e+00 2.88692886e-03 1.16691107e-03\n",
      " 2.50723029e-03 0.00000000e+00 1.28598716e-03 3.71585930e-04\n",
      " 7.23620863e-03 6.48190261e-03 1.67969740e-03 3.08748113e-03\n",
      " 5.29119820e-04 7.65513022e-03 4.42748073e-03 2.54525676e-04\n",
      " 9.75385266e-04 3.47724081e-05 4.69573756e-07 0.00000000e+00\n",
      " 0.00000000e+00 3.32994002e-03 6.83173874e-03 3.10369154e-03\n",
      " 6.55549491e-03 3.23435067e-03 2.43086101e-03 7.11518418e-03\n",
      " 0.00000000e+00 3.03950139e-02 1.96063029e-03 2.14129860e-03\n",
      " 4.97474775e-01 1.26628528e-02 1.56002652e-02 1.61108555e-03\n",
      " 1.97223165e-03 4.56306357e-04 2.71275843e-04 1.11197988e-03\n",
      " 3.74979613e-04 3.94909831e-04 0.00000000e+00 2.44016307e-04]\n"
     ]
    },
    {
     "data": {
      "image/png": "[encoded data removed]",
      "text/plain": [
       "<Figure size 432x288 with 1 Axes>"
      ]
     },
     "metadata": {
      "needs_background": "light"
     },
     "output_type": "display_data"
    }
   ],
   "source": [
    "from sklearn.metrics import confusion_matrix, precision_score, recall_score, f1_score, roc_curve, roc_auc_score\n",
    "# (4) Predition\n",
    "yobs = y_test\n",
    "a = grid_GB_m.predict(X_test)\n",
    "b = grid_GB_m.predict(X_train)\n",
    "y_scores = grid_GB_m.predict_proba(X_test)[:,1]\n",
    "y_scores_m = grid_GB_m.predict_proba(X_train)[:,1]\n",
    "fpr, tpr, thresholds = roc_curve(y_test, y_scores)\n",
    "# (5) validation\n",
    "print(\"GradientBoostingClassifer\")\n",
    "print(\"Validation\")\n",
    "print(\"Score of GBClassifer : \",grid_GB_m.score(X_train,y_train))\n",
    "print(\"정밀도 : \", precision_score(y_train, b))\n",
    "print(\"재현율 : \", recall_score(y_train,b))\n",
    "print(\"f1 score : \", f1_score(y_train,b))\n",
    "print(\"roc_auc_score : \", roc_auc_score(y_train, y_scores_m))\n",
    "print(\"GradidentBoostingClassifer\")\n",
    "print(\"Best Parameter :\", grid_GB_m.best_params_)\n",
    "# (6) Evalution \n",
    "#Confusion Matrix & feature importance\n",
    "print(\"CONFUSION MATRIX\", confusion_matrix(y_test, a), sep = '\\n')\n",
    "print(\"Accuracy of GradidentBoostingClassifer : \", grid_GB_m.score(X_test,y_test))\n",
    "print(\"정밀도 : \", precision_score(y_test, a))\n",
    "print(\"재현율 : \", recall_score(y_test,a))\n",
    "print(\"f1 score : \", f1_score(y_test,a))\n",
    "print(grid_GB_m.get_params)\n",
    "print(\"roc_auc_score : \", roc_auc_score(y_test, y_scores))\n",
    "plot_roc_curve(fpr, tpr, \"GradidentBoostingClassifer\")\n",
    "importances = grid_GB_m.best_estimator_.feature_importances_\n",
    "print(importances)\n"
   ]
  },
  {
   "cell_type": "code",
   "execution_count": 20,
   "metadata": {},
   "outputs": [],
   "source": [
    "y_test.to_csv(\"C:/acci/GB/y_obs.csv\")\n",
    "yhat_GB = grid_GB_m.predict_proba(X_test)\n",
    "pd.DataFrame(yhat_GB).to_csv(\"C:/acci/GB/yhat.csv\")\n",
    "pd.DataFrame(importances).to_csv(\"C:/acci/GB/feature_importances1.csv\")"
   ]
  },
  {
   "cell_type": "code",
   "execution_count": 38,
   "metadata": {},
   "outputs": [],
   "source": [
    "#MLP CLASSIFIER 준비 - 출력\n",
    "X_train.to_csv(\"C:/acci/MLP/X_train.csv\")\n",
    "X_test.to_csv(\"C:/acci/MLP/X_test.csv\")\n",
    "# 그다음 R에서 0~1 스케일 변환"
   ]
  },
  {
   "cell_type": "code",
   "execution_count": 28,
   "metadata": {},
   "outputs": [],
   "source": [
    "#MLP CLASSIFIER - 다시 입력\n",
    "X_train_m = pd.read_csv(\"C:/acci/MLP/X_train_m.csv\")\n",
    "X_test_m = pd.read_csv(\"C:/acci/MLP/X_test_m.csv\")"
   ]
  },
  {
   "cell_type": "code",
   "execution_count": 51,
   "metadata": {},
   "outputs": [
    {
     "name": "stdout",
     "output_type": "stream",
     "text": [
      "(23183, 96)\n",
      "   spring  summer  fall  winter  mon  tue  wed  thur  fri  sat   ...    \\\n",
      "0       0       0     0       1    0    0    1     0    0    0   ...     \n",
      "1       0       0     0       1    1    0    0     0    0    0   ...     \n",
      "2       0       1     0       0    0    0    0     0    0    0   ...     \n",
      "3       0       0     0       0    0    1    0     0    0    0   ...     \n",
      "4       0       0     0       1    1    0    0     0    0    0   ...     \n",
      "\n",
      "   female2  rstat1  rstat2  rstat3  rstat4  rstat5  rstat6  rstat7  rstat8  \\\n",
      "0        0       1       0       0       0       0       0       0       0   \n",
      "1        0       1       0       0       0       0       0       0       0   \n",
      "2        1       1       0       0       0       0       0       0       0   \n",
      "3        0       1       0       0       0       0       0       0       0   \n",
      "4        1       1       0       0       0       0       0       0       0   \n",
      "\n",
      "   rstat9  \n",
      "0       0  \n",
      "1       0  \n",
      "2       0  \n",
      "3       0  \n",
      "4       0  \n",
      "\n",
      "[5 rows x 96 columns]\n",
      "(5796, 96)\n",
      "   spring  summer  fall  winter  mon  tue  wed  thur  fri  sat   ...    \\\n",
      "0       1       0     0       0    0    0    0     0    0    1   ...     \n",
      "1       0       0     0       1    0    0    0     0    0    1   ...     \n",
      "2       0       0     0       1    0    0    0     0    1    0   ...     \n",
      "3       0       0     0       1    0    0    0     0    1    0   ...     \n",
      "4       0       0     0       1    0    0    0     0    0    1   ...     \n",
      "\n",
      "   female2  rstat1  rstat2  rstat3  rstat4  rstat5  rstat6  rstat7  rstat8  \\\n",
      "0        0       1       0       0       0       0       0       0       0   \n",
      "1        0       1       0       0       0       0       0       0       0   \n",
      "2        0       0       1       0       0       0       0       0       0   \n",
      "3        0       1       0       0       0       0       0       0       0   \n",
      "4        0       1       0       0       0       0       0       0       0   \n",
      "\n",
      "   rstat9  \n",
      "0       0  \n",
      "1       0  \n",
      "2       0  \n",
      "3       0  \n",
      "4       0  \n",
      "\n",
      "[5 rows x 96 columns]\n"
     ]
    }
   ],
   "source": [
    "print(X_train_m.shape)\n",
    "print(X_train_m.head())\n",
    "print(X_test_m.shape)\n",
    "print(X_test_m.head())"
   ]
  },
  {
   "cell_type": "code",
   "execution_count": 79,
   "metadata": {},
   "outputs": [],
   "source": [
    "# MLP Classifier--------------------------------------------------------------------------------------------------------------------------\n",
    "# (1) 초기화\n",
    "from sklearn.neural_network import MLPClassifier\n",
    "nn_ = MLPClassifier()\n",
    "# (2) GridSearch & Parameter 찾기 (Paramter & Scorer Metric 설정)\n",
    "grid_nn_m = GridSearchCV(nn_, \n",
    "                         param_grid = {\n",
    "                                        'learning_rate_init': [0.01,0.001],\n",
    "                                        'hidden_layer_sizes': [(5,5),(5,10),(10,5),(10,10),(100,100)],\n",
    "                             #[(100,100),(100,200),(100,300),(100,400)],\n",
    "      #                                                         (200,100),(200,200),(200,300),(200,400),\n",
    "        #                                                       (300,100),(300,200),(300,300),(300,400),\n",
    "          #                                                     (400,100),(400,200),(400,300),(400,400)],\n",
    "                                        'activation': [\"tanh\",\"relu\"],#\"sigmoid\",\"tanh\"],\n",
    "                                        'max_iter': [200],\n",
    "                                        'random_state': [42]\n",
    "                                      }, scoring = scorer, cv=10)\n",
    "\n",
    "# (3) 학습\n",
    "grid_nn_m.fit(X_train_m, y_train)\n"
   ]
  },
  {
   "cell_type": "code",
   "execution_count": 80,
   "metadata": {},
   "outputs": [
    {
     "name": "stdout",
     "output_type": "stream",
     "text": [
      "MLPCLlassifer\n",
      "CONFUSION MATRIX\n",
      "[[1376 1198]\n",
      " [ 875 2347]]\n",
      "Score of MLPClassifer :  0.6597075443212699\n",
      "정밀도 :  0.6749965000699986\n",
      "재현율 :  0.748157343471177\n",
      "f1 score :  0.7096964121435142\n",
      "roc_auc_score :  0.7076798022987236\n",
      "Best Parameter : {'activation': 'relu', 'hidden_layer_sizes': (5, 5), 'learning_rate_init': 0.001, 'max_iter': 200, 'random_state': 42}\n",
      "Score of MLPClassifer :  0.6423395445134575\n",
      "정밀도 :  0.6620592383638928\n",
      "재현율 :  0.728429546865301\n",
      "f1 score :  0.6936604108172011\n",
      "roc_auc_score :  0.6780772679282921\n"
     ]
    },
    {
     "data": {
      "image/png": "[encoded data removed]",
      "text/plain": [
       "<Figure size 432x288 with 1 Axes>"
      ]
     },
     "metadata": {
      "needs_background": "light"
     },
     "output_type": "display_data"
    }
   ],
   "source": [
    "from sklearn.metrics import confusion_matrix, precision_score, recall_score, f1_score, roc_curve, roc_auc_score\n",
    "# (4) Predition\n",
    "yobs = y_test\n",
    "a = grid_nn_m.predict(X_test_m)\n",
    "b = grid_nn_m.predict(X_train_m)\n",
    "y_scores = grid_nn_m.predict_proba(X_test_m)[:,1]\n",
    "y_scores_m = grid_nn_m.predict_proba(X_train_m)[:,1]\n",
    "fpr, tpr, thresholds = roc_curve(y_test, y_scores)\n",
    "# (5) validation\n",
    "print(\"MLPCLlassifer\")\n",
    "print(\"Validation\")\n",
    "print(\"Best Parameter :\", grid_nn_m.best_params_)\n",
    "print(\"Score of MLPClassifer : \", grid_nn_m.score(X_train_m,y_train))\n",
    "print(\"정밀도 : \", precision_score(y_train, b))\n",
    "print(\"재현율 : \", recall_score(y_train,b))\n",
    "print(\"f1 score : \", f1_score(y_train,b))\n",
    "print(\"roc_auc_score : \", roc_auc_score(y_train, y_scores_m))\n",
    "plot_roc_curve(fpr, tpr, \"MLPClassifer\")\n",
    "# (6) Evalution \n",
    "#Confusion Matrix & feature importance\n",
    "print(\"CONFUSION MATRIX\", confusion_matrix(y_test, a), sep = '\\n')\n",
    "print(\"Score of MLPClassifer : \", grid_nn_m.score(X_test_m,y_test))\n",
    "print(\"정밀도 : \", precision_score(y_test, a))\n",
    "print(\"재현율 : \", recall_score(y_test,a))\n",
    "print(\"f1 score : \", f1_score(y_test,a))\n",
    "print(\"roc_auc_score : \", roc_auc_score(y_test, y_scores))\n",
    "plot_roc_curve(fpr, tpr, \"MLPClassifer\")\n"
   ]
  },
  {
   "cell_type": "code",
   "execution_count": 31,
   "metadata": {},
   "outputs": [
    {
     "data": {
      "text/plain": [
       "GridSearchCV(cv=10, error_score='raise-deprecating',\n",
       "       estimator=MLPClassifier(activation='relu', alpha=0.0001, batch_size='auto', beta_1=0.9,\n",
       "       beta_2=0.999, early_stopping=False, epsilon=1e-08,\n",
       "       hidden_layer_sizes=(100,), learning_rate='constant',\n",
       "       learning_rate_init=0.001, max_iter=200, momentum=0.9,\n",
       "       n_iter_no_change=10, nesterovs_momentum=True, power_t=0.5,\n",
       "       random_state=None, shuffle=True, solver='adam', tol=0.0001,\n",
       "       validation_fraction=0.1, verbose=False, warm_start=False),\n",
       "       fit_params=None, iid='warn', n_jobs=None,\n",
       "       param_grid={'learning_rate_init': [0.001], 'hidden_layer_sizes': [4], 'activation': ['relu', 'tanh'], 'max_iter': [200], 'random_state': [42]},\n",
       "       pre_dispatch='2*n_jobs', refit=True, return_train_score='warn',\n",
       "       scoring=make_scorer(accuracy_score), verbose=0)"
      ]
     },
     "execution_count": 31,
     "metadata": {},
     "output_type": "execute_result"
    }
   ],
   "source": [
    "# MLP Classifier--은닉층 하나------------------------------------------------------------------------------------------------------------------------\n",
    "# (1) 초기화\n",
    "from sklearn.neural_network import MLPClassifier\n",
    "nn1_ = MLPClassifier()\n",
    "# (2) GridSearch & Parameter 찾기 (Paramter & Scorer Metric 설정)\n",
    "grid_nn1_m = GridSearchCV(nn1_, \n",
    "                         param_grid = {\n",
    "                                        'learning_rate_init': [0.001],\n",
    "                                        'hidden_layer_sizes': [4],\n",
    "                             #[(100,100),(100,200),(100,300),(100,400)],\n",
    "      #                                                         (200,100),(200,200),(200,300),(200,400),\n",
    "        #                                                       (300,100),(300,200),(300,300),(300,400),\n",
    "          #                                                     (400,100),(400,200),(400,300),(400,400)],\n",
    "                                        'activation': [\"relu\",\"tanh\"],#\"sigmoid\",\"tanh\"],\n",
    "                                        'max_iter': [200],\n",
    "                                        'random_state': [42]\n",
    "                                      }, scoring = scorer, cv=10)\n",
    "\n",
    "# (3) 학습\n",
    "grid_nn1_m.fit(X_train_m, y_train)\n"
   ]
  },
  {
   "cell_type": "code",
   "execution_count": 39,
   "metadata": {},
   "outputs": [
    {
     "name": "stdout",
     "output_type": "stream",
     "text": [
      "0.6393909330112583\n",
      "MLPCLlassifer\n",
      "Validation\n",
      "Best Parameter : {'activation': 'tanh', 'hidden_layer_sizes': 4, 'learning_rate_init': 0.001, 'max_iter': 200, 'random_state': 42}\n",
      "Score of MLPClassifer :  0.6531510158305655\n",
      "정밀도 :  0.6662323412426279\n",
      "재현율 :  0.7537435022111878\n",
      "f1 score :  0.7072913253976921\n",
      "roc_auc_score :  0.6993065636144206\n",
      "CONFUSION MATRIX\n",
      "[[1357 1217]\n",
      " [ 829 2393]]\n",
      "Score of MLPClassifer :  0.6469979296066253\n",
      "정밀도 :  0.6628808864265928\n",
      "재현율 :  0.7427063935443824\n",
      "f1 score :  0.7005269320843092\n",
      "roc_auc_score :  0.6871011600992979\n",
      "<bound method BaseEstimator.get_params of GridSearchCV(cv=10, error_score='raise-deprecating',\n",
      "       estimator=MLPClassifier(activation='relu', alpha=0.0001, batch_size='auto', beta_1=0.9,\n",
      "       beta_2=0.999, early_stopping=False, epsilon=1e-08,\n",
      "       hidden_layer_sizes=(100,), learning_rate='constant',\n",
      "       learning_rate_init=0.001, max_iter=200, momentum=0.9,\n",
      "       n_iter_no_change=10, nesterovs_momentum=True, power_t=0.5,\n",
      "       random_state=None, shuffle=True, solver='adam', tol=0.0001,\n",
      "       validation_fraction=0.1, verbose=False, warm_start=False),\n",
      "       fit_params=None, iid='warn', n_jobs=None,\n",
      "       param_grid={'learning_rate_init': [0.001], 'hidden_layer_sizes': [4], 'activation': ['relu', 'tanh'], 'max_iter': [200], 'random_state': [42]},\n",
      "       pre_dispatch='2*n_jobs', refit=True, return_train_score='warn',\n",
      "       scoring=make_scorer(accuracy_score), verbose=0)>\n"
     ]
    },
    {
     "data": {
      "image/png": "[encoded data removed]",
      "text/plain": [
       "<Figure size 432x288 with 1 Axes>"
      ]
     },
     "metadata": {
      "needs_background": "light"
     },
     "output_type": "display_data"
    }
   ],
   "source": [
    "from sklearn.metrics import confusion_matrix, precision_score, recall_score, f1_score, roc_curve, roc_auc_score\n",
    "# (4) Predition\n",
    "yobs = y_test\n",
    "a = grid_nn1_m.predict(X_test_m)\n",
    "b = grid_nn1_m.predict(X_train_m)\n",
    "y_scores = grid_nn1_m.predict_proba(X_test_m)[:,1]\n",
    "y_scores_m = grid_nn1_m.predict_proba(X_train_m)[:,1]\n",
    "fpr, tpr, thresholds = roc_curve(y_test, y_scores)\n",
    "print(grid_nn1_m.best_score_)\n",
    "# (5) validation\n",
    "print(\"MLPCLlassifer\")\n",
    "print(\"Validation\")\n",
    "print(\"Best Parameter :\", grid_nn1_m.best_params_)\n",
    "print(\"Score of MLPClassifer : \", grid_nn1_m.score(X_train_m,y_train))\n",
    "print(\"정밀도 : \", precision_score(y_train, b))\n",
    "print(\"재현율 : \", recall_score(y_train,b))\n",
    "print(\"f1 score : \", f1_score(y_train,b))\n",
    "print(\"roc_auc_score : \", roc_auc_score(y_train, y_scores_m))\n",
    "plot_roc_curve(fpr, tpr, \"MLPClassifer\")\n",
    "# (6) Evalution \n",
    "#Confusion Matrix & feature importance\n",
    "print(\"CONFUSION MATRIX\", confusion_matrix(y_test, a), sep = '\\n')\n",
    "print(\"Score of MLPClassifer : \", grid_nn1_m.score(X_test_m,y_test))\n",
    "print(\"정밀도 : \", precision_score(y_test, a))\n",
    "print(\"재현율 : \", recall_score(y_test,a))\n",
    "print(\"f1 score : \", f1_score(y_test,a))\n",
    "print(\"roc_auc_score : \", roc_auc_score(y_test, y_scores))\n",
    "plot_roc_curve(fpr, tpr, \"MLPClassifer\")\n",
    "print(grid_nn1_m.get_params)"
   ]
  },
  {
   "cell_type": "code",
   "execution_count": 35,
   "metadata": {
    "scrolled": true
   },
   "outputs": [],
   "source": [
    "y_test.to_csv(\"C:/acci/MLP/y_obs.csv\")\n",
    "yhat_MLP = grid_nn1_m.predict_proba(X_test)\n",
    "pd.DataFrame(yhat_MLP).to_csv(\"C:/acci/MLP/yhat.csv\")"
   ]
  },
  {
   "cell_type": "code",
   "execution_count": 9,
   "metadata": {},
   "outputs": [
    {
     "data": {
      "text/plain": [
       "GridSearchCV(cv='warn', error_score='raise-deprecating',\n",
       "       estimator=SVC(C=1.0, cache_size=200, class_weight=None, coef0=0.0,\n",
       "  decision_function_shape='ovr', degree=3, gamma='auto_deprecated',\n",
       "  kernel='rbf', max_iter=-1, probability=False, random_state=None,\n",
       "  shrinking=True, tol=0.001, verbose=False),\n",
       "       fit_params=None, iid='warn', n_jobs=None,\n",
       "       param_grid={'C': array([0.1]), 'kernel': ['rbf'], 'probability': [True], 'random_state': [42]},\n",
       "       pre_dispatch='2*n_jobs', refit=True, return_train_score='warn',\n",
       "       scoring=make_scorer(accuracy_score), verbose=0)"
      ]
     },
     "execution_count": 9,
     "metadata": {},
     "output_type": "execute_result"
    }
   ],
   "source": [
    "# Support Vector Machines----------------------------------------------------------------------------------------------------------------\n",
    "from sklearn.svm import SVC\n",
    "# 5-(1) 초기화\n",
    "SV_ = SVC()\n",
    "# 5-(2) GridSearch & Parameter 찾기 (Paramter & Scorer Metric 설정)\n",
    "c_svc = np.array([0.1])\n",
    "                  #,0.01,0.1,1,10])\n",
    "#,1,10])28,256,512,1024,2048,4096,8192])\n",
    "gamma_svc = np.array([0.1])\n",
    "                      #,0.01,0.1,1,10])\n",
    "#[3.05176E-05,0.00012207,0.000488281,1,10])\n",
    "grid_SV_m = GridSearchCV(SV_,\n",
    "                          param_grid = \n",
    "\t\t\t{\n",
    "\t\t\t    'C': c_svc,\n",
    "\t\t\t    #'degree':[3], \n",
    "# \t\t\t   'gamma': gamma_svc, \n",
    "  \t\t\t   'kernel':[\"rbf\"],\n",
    "                'probability':[True],\n",
    "                'random_state':[42]\n",
    "                         #,\"rbf\"]\n",
    "#,\"rbf\" \"linear\", \"poly\"]\n",
    "\t\t\t}, scoring = scorer\n",
    "                        )\n",
    "# 4-(3) 학습\n",
    "grid_SV_m.fit(X_train, y_train)"
   ]
  },
  {
   "cell_type": "code",
   "execution_count": 10,
   "metadata": {},
   "outputs": [
    {
     "name": "stdout",
     "output_type": "stream",
     "text": [
      "SupportVectorClassifer\n",
      "Best Parameter : {'C': 0.1, 'kernel': 'rbf', 'probability': True, 'random_state': 42}\n",
      "Score of SVMClassifer :  0.6392615278436785\n",
      "정밀도 :  0.6470244282744283\n",
      "재현율 :  0.7726743734967803\n",
      "f1 score :  0.7042890986881652\n",
      "roc_auc_score :  0.6795611082434627\n",
      "CONFUSION MATRIX\n",
      "[[1232 1342]\n",
      " [ 744 2478]]\n",
      "Score of SupportVectorClassifer :  0.6400966183574879\n",
      "정밀도 :  0.6486910994764398\n",
      "재현율 :  0.7690875232774674\n",
      "f1 score :  0.7037773359840954\n",
      "roc_auc_score :  0.6826088681302833\n",
      "<bound method BaseEstimator.get_params of GridSearchCV(cv='warn', error_score='raise-deprecating',\n",
      "       estimator=SVC(C=1.0, cache_size=200, class_weight=None, coef0=0.0,\n",
      "  decision_function_shape='ovr', degree=3, gamma='auto_deprecated',\n",
      "  kernel='rbf', max_iter=-1, probability=False, random_state=None,\n",
      "  shrinking=True, tol=0.001, verbose=False),\n",
      "       fit_params=None, iid='warn', n_jobs=None,\n",
      "       param_grid={'C': array([0.1]), 'kernel': ['rbf'], 'probability': [True], 'random_state': [42]},\n",
      "       pre_dispatch='2*n_jobs', refit=True, return_train_score='warn',\n",
      "       scoring=make_scorer(accuracy_score), verbose=0)>\n"
     ]
    },
    {
     "data": {
      "image/png": "[encoded data removed]",
      "text/plain": [
       "<Figure size 432x288 with 1 Axes>"
      ]
     },
     "metadata": {
      "needs_background": "light"
     },
     "output_type": "display_data"
    }
   ],
   "source": [
    "from sklearn.metrics import confusion_matrix, precision_score, recall_score, f1_score, roc_curve, roc_auc_score\n",
    "# 4-(4) Predition\n",
    "a = grid_SV_m.predict(X_test)\n",
    "b = grid_SV_m.predict(X_train)\n",
    "y_scores = grid_SV_m.predict_proba(X_test)[:,1]\n",
    "y_scores_m = grid_SV_m.predict_proba(X_train)[:,1]\n",
    "fpr, tpr, thresholds = roc_curve(y_test, y_scores)\n",
    "# (5) validation\n",
    "print(\"SupportVectorClassifer\")\n",
    "print(\"Best Parameter :\", grid_SV_m.best_params_)\n",
    "print(\"Score of SVMClassifer : \",grid_SV_m.score(X_train,y_train))\n",
    "print(\"정밀도 : \", precision_score(y_train, b))\n",
    "print(\"재현율 : \", recall_score(y_train,b))\n",
    "print(\"f1 score : \", f1_score(y_train,b))\n",
    "print(\"roc_auc_score : \", roc_auc_score(y_train, y_scores_m))\n",
    "# (6) Evalution \n",
    "#Confusion Matrix & feature importance\n",
    "print(\"CONFUSION MATRIX\", confusion_matrix(y_test, a), sep = '\\n')\n",
    "print(\"Score of SupportVectorClassifer : \", grid_SV_m.score(X_test,y_test))\n",
    "print(\"정밀도 : \", precision_score(y_test, a))\n",
    "print(\"재현율 : \", recall_score(y_test,a))\n",
    "print(\"f1 score : \", f1_score(y_test,a))\n",
    "print(\"roc_auc_score : \", roc_auc_score(y_test, y_scores))\n",
    "plot_roc_curve(fpr, tpr, \"SupportVectorClassifer\")\n",
    "print(grid_SV_m.get_params)"
   ]
  },
  {
   "cell_type": "code",
   "execution_count": 11,
   "metadata": {},
   "outputs": [],
   "source": [
    "y_test.to_csv(\"C:/acci/SVM/y_obs.csv\")\n",
    "yhat_SVM = grid_SV_m.predict_proba(X_test)\n",
    "pd.DataFrame(yhat_SVM).to_csv(\"C:/acci/SVM/yhat.csv\")"
   ]
  },
  {
   "cell_type": "code",
   "execution_count": null,
   "metadata": {},
   "outputs": [],
   "source": [
    "#Feature importance 측정\n",
    "\n",
    "from sklearn.ensemble import VotingClassifier\n",
    "Voter = VotingClassifier(estimators=\n",
    "\t[\n",
    "\t\t('rf',grid_RF_m),('et',grid_ET_m),('gb',grid_GB_m),\n",
    "        #('mlp',grid_nn_m),('sv',grid_SV_m)\n",
    "\t],\n",
    "\t\t\tvoting='soft',n_jobs=-1)\n",
    "Voter.fit(X_train, y_train)\n",
    "yobs = y_test"
   ]
  },
  {
   "cell_type": "code",
   "execution_count": null,
   "metadata": {},
   "outputs": [],
   "source": [
    "from sklearn.metrics import confusion_matrix, precision_score, recall_score, f1_score, roc_curve, roc_auc_score\n",
    "a = Voter.predict(X_test)\n",
    "y_scores = Voter.predict_proba(X_test)[:,1]\n",
    "print(\"ENSEMBLE\")\n",
    "#Confusion Matrix\n",
    "print(\"CONFUSION MATRIX\", confusion_matrix(y_test, a), sep = '\\n')\n",
    "#Decision Function\n",
    "fpr, tpr, thresholds = roc_curve(y_test, y_scores)\n",
    "# Evalution\n",
    "print(\"Accuracy of Voting Ensemble : \", Voter.score(X_test,y_test))\n",
    "print(\"정밀도 : \", precision_score(y_test, a))\n",
    "print(\"재현율 : \", recall_score(y_test,a))\n",
    "print(\"f1 score : \", f1_score(y_test,a))\n",
    "print(\"roc_auc_score : \", roc_auc_score(y_test, y_scores))\n",
    "plot_roc_curve(fpr, tpr, \"Voting Ensemble\")"
   ]
  },
  {
   "cell_type": "code",
   "execution_count": null,
   "metadata": {},
   "outputs": [],
   "source": []
  }
 ],
 "metadata": {
  "kernelspec": {
   "display_name": "Python 3",
   "language": "python",
   "name": "python3"
  },
  "language_info": {
   "codemirror_mode": {
    "name": "ipython",
    "version": 3
   },
   "file_extension": ".py",
   "mimetype": "text/x-python",
   "name": "python",
   "nbconvert_exporter": "python",
   "pygments_lexer": "ipython3",
   "version": "3.6.7"
  }
 },
 "nbformat": 4,
 "nbformat_minor": 2
}
